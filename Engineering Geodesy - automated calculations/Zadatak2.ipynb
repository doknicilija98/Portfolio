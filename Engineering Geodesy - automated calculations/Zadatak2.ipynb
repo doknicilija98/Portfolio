{
 "cells": [
  {
   "cell_type": "code",
   "execution_count": null,
   "metadata": {},
   "outputs": [],
   "source": [
    "import numpy as np \n",
    "import math as m \n",
    "import pandas as pd \n",
    "import itertools as iter "
   ]
  },
  {
   "cell_type": "code",
   "execution_count": null,
   "metadata": {},
   "outputs": [],
   "source": [
    "kordinate = pd.read_csv('Kordinate.csv')\n",
    "kordinate = kordinate.to_numpy()\n",
    "print(kordinate)\n",
    "\n",
    "nivelanje = pd.read_csv('Nivelanje.csv')\n",
    "nivelanje=nivelanje.to_numpy()\n",
    "nivelanje=nivelanje-1\n",
    "print(nivelanje)"
   ]
  },
  {
   "cell_type": "code",
   "execution_count": null,
   "metadata": {},
   "outputs": [],
   "source": [
    "try:\n",
    "    sigma_h = float(input(\"Kolika je zahtevana tacnost nivelanja \"))\n",
    "except:\n",
    "    print(\"Niste dobro uneli broj\")\n",
    "    sigma_h = float(input(\"Kolika je zahtevana tacnost nivelanja \"))\n",
    "    \n",
    "try:\n",
    "    datum_reper = int(input(\"Kojim reperom je definisan datum \"))\n",
    "except:\n",
    "    print(\"Niste dobro uneli broj\")\n",
    "    datum_reper = int(input(\"Kojim reperom je definisan datum \"))\n",
    "    \n",
    "try:\n",
    "    sigma_usvojeno = float(input(\"Kolika je usvojena tacnost nivelanja \"))\n",
    "except:\n",
    "    print(\"Niste dobro uneli broj\")\n",
    "    sigma_usvojeno = float(input(\"Kolika je usvojena tacnost nivelanja \"))"
   ]
  },
  {
   "cell_type": "code",
   "execution_count": null,
   "metadata": {},
   "outputs": [],
   "source": [
    "def kolonaA(arr):\n",
    "    kolonaA = np.zeros((1,len(np.unique(nivelanje))),dtype = float)\n",
    "    kolonaA[0,arr[0]],kolonaA[0,arr[1]]= -1,1\n",
    "    return kolonaA\n",
    "def matricaA(nivelanje):\n",
    "    arr = (kolonaA(i) for i in nivelanje)\n",
    "    A = np.vstack(tuple(arr))\n",
    "    return A\n"
   ]
  },
  {
   "cell_type": "code",
   "execution_count": null,
   "metadata": {},
   "outputs": [],
   "source": [
    "A =matricaA(nivelanje)\n",
    "A"
   ]
  },
  {
   "cell_type": "code",
   "execution_count": null,
   "metadata": {},
   "outputs": [],
   "source": [
    "def matricaP(nivelanje):\n",
    "    var =[]\n",
    "    for i in duzine:\n",
    "        \n",
    "    var = np.array(var)\n",
    "    devijacije =var*sigma_h\n",
    "    P = 1/((var*sigma_h)**2)\n",
    "    P = np.diag(P)  \n",
    "    return  P ,devijacije\n",
    " \n"
   ]
  },
  {
   "cell_type": "code",
   "execution_count": null,
   "metadata": {},
   "outputs": [],
   "source": [
    "P,devijacije = matricaP(nivelanje)\n",
    "np.diag(P)"
   ]
  },
  {
   "cell_type": "code",
   "execution_count": null,
   "metadata": {},
   "outputs": [],
   "source": [
    "def matricaRt():\n",
    "    Rt = np.zeros((len(np.unique(nivelanje))))\n",
    "    Rt[datum_reper-1]=1\n",
    "    Rt.reshape(1,7)\n",
    "    return Rt\n",
    "    \n",
    "Rt = matricaRt()\n",
    "Rt.shape"
   ]
  },
  {
   "cell_type": "code",
   "execution_count": null,
   "metadata": {},
   "outputs": [],
   "source": [
    "def matricaN(A,P,Rt):\n",
    "    N = np.matmul(np.matmul(np.transpose(A),P),A)\n",
    "    N=np.hstack((np.vstack((N,Rt)),np.append(Rt.transpose(),0).reshape(-1,1)))\n",
    "    return N\n",
    "\n"
   ]
  },
  {
   "cell_type": "code",
   "execution_count": null,
   "metadata": {},
   "outputs": [],
   "source": [
    "N = matricaN(A,P,Rt)"
   ]
  },
  {
   "cell_type": "code",
   "execution_count": null,
   "metadata": {},
   "outputs": [],
   "source": [
    "def analizaTacnosti(A,P,N):\n",
    "    Qx = np.linalg.inv(N)\n",
    "    Qx = Qx[:-1,:-1]\n",
    "    Qhi = np.diag(Qx)\n",
    "    sigma_hi = sigma_usvojeno*np.sqrt(Qhi)\n",
    "    \n",
    "    Ql = np.matmul(np.matmul(A,Qx),A.transpose())\n",
    "    Qv = np.linalg.inv(P)-Ql\n",
    "    ri = np.diag(P)*np.diag(Qv)\n",
    "    Gi = 2.802/(np.diag(P)*np.sqrt(np.diag(Qv)))\n",
    "    \n",
    "    return Qx,Qhi,sigma_hi,Ql,Qv,ri,Gi,np.sum(ri)\n",
    "    "
   ]
  },
  {
   "cell_type": "code",
   "execution_count": null,
   "metadata": {},
   "outputs": [],
   "source": [
    "def analizaTacnostiN(A,P,N):\n",
    "    Qx = np.linalg.inv(N)\n",
    "    Qhi = np.diag(Qx)\n",
    "    sigma_hi = sigma_usvojeno*np.sqrt(Qhi)\n",
    "    \n",
    "    Ql = np.matmul(np.matmul(A,Qx),A.transpose())\n",
    "    Qv = np.linalg.inv(P)-Ql\n",
    "    ri = np.diag(P)*np.diag(Qv)\n",
    "    Gi = 2.802/(np.diag(P)*np.sqrt(np.diag(Qv)))\n",
    "    \n",
    "    return Qx,Qhi,sigma_hi,Ql,Qv,ri,Gi,np.sum(ri)"
   ]
  },
  {
   "cell_type": "code",
   "execution_count": null,
   "metadata": {},
   "outputs": [],
   "source": [
    "Qx,Qhi,sigma_hi,Ql,Qv,ri,Gi,kontrola = analizaTacnosti(A,P,N)\n",
    "\n"
   ]
  },
  {
   "cell_type": "markdown",
   "metadata": {},
   "source": [
    "## Izravnanje sa minimalnim tragom"
   ]
  },
  {
   "cell_type": "code",
   "execution_count": null,
   "metadata": {},
   "outputs": [],
   "source": [
    "Bt = np.full((1,len(np.unique(nivelanje))),1/m.sqrt(kordinate.shape[0]))\n",
    "Bt.shape"
   ]
  },
  {
   "cell_type": "code",
   "execution_count": null,
   "metadata": {},
   "outputs": [],
   "source": [
    "bN = matricaN(A,P,Bt)"
   ]
  },
  {
   "cell_type": "code",
   "execution_count": null,
   "metadata": {},
   "outputs": [],
   "source": [
    "bQx,bQhi,bsigma_hi,bQl,bQv,bri,bGi,bkontrola = analizaTacnosti(A,P,bN)"
   ]
  },
  {
   "cell_type": "code",
   "execution_count": null,
   "metadata": {},
   "outputs": [],
   "source": []
  },
  {
   "cell_type": "markdown",
   "metadata": {},
   "source": [
    "## Neslobodna mreza "
   ]
  },
  {
   "cell_type": "code",
   "execution_count": null,
   "metadata": {},
   "outputs": [],
   "source": [
    "fiksirane_tacke = []\n",
    "f_tacka = 1\n",
    "while(True):\n",
    "    \n",
    "    f_tacka = int(input(\"Tacka koja je fiksirana\"))\n",
    "    if f_tacka ==0:\n",
    "        break\n",
    "    fiksirane_tacke.append(f_tacka-1)\n"
   ]
  },
  {
   "cell_type": "code",
   "execution_count": null,
   "metadata": {
    "scrolled": true
   },
   "outputs": [],
   "source": [
    "def fiksiraniAP(fiksirane_tacke,A,P):\n",
    "    perm = iter.permutations(fiksirane_tacke,r=2)\n",
    "    perm = list(perm)\n",
    "    index = []\n",
    "    for idx,i in enumerate(nivelanje):\n",
    "        if tuple(i) in perm:\n",
    "            index.append(idx)\n",
    "    \n",
    "    mask = np.ones(len(P), dtype=bool)\n",
    "    mask[index] = False\n",
    "    ndevijacije = devijacije[mask]\n",
    "    nP = np.diag(P)[mask]\n",
    "    nP = np.diag(nP)\n",
    "    \n",
    "    \n",
    "    nA = A.copy()\n",
    "    nA = np.delete(nA,fiksirane_tacke,axis = 1)\n",
    "    nA = np.delete(nA,index,axis = 0)\n",
    "    \n",
    "    nN = np.matmul(np.matmul(np.transpose(nA),nP),nA)\n",
    "    \n",
    "    return nA,ndevijacije,nP,nN"
   ]
  },
  {
   "cell_type": "code",
   "execution_count": null,
   "metadata": {},
   "outputs": [],
   "source": [
    "nA,ndevijacije,nP,nN = fiksiraniAP(fiksirane_tacke,A,P)\n",
    "print(nA.shape,nP.shape,nN.shape)\n"
   ]
  },
  {
   "cell_type": "code",
   "execution_count": null,
   "metadata": {},
   "outputs": [],
   "source": [
    "ndevijacije.round(2)"
   ]
  },
  {
   "cell_type": "code",
   "execution_count": null,
   "metadata": {},
   "outputs": [],
   "source": [
    "nQx,nQhi,nsigma_hi,nQl,nQv,nri,nGi,nkontrola = analizaTacnostiN(nA,nP,nN)"
   ]
  },
  {
   "cell_type": "code",
   "execution_count": null,
   "metadata": {},
   "outputs": [],
   "source": [
    "nQx = np.linalg.inv(nN)\n",
    "nQhi = np.diag(nQx)\n",
    "nsigma_hi = sigma_usvojeno*np.sqrt(nQhi)\n",
    "\n",
    "nQl = np.matmul(np.matmul(nA,nQx),nA.transpose())\n",
    "nQv = np.linalg.inv(nP)-nQl\n",
    "nri = np.diag(nP)*np.diag(nQv)\n",
    "nGi = 2.802/(np.diag(nP)*np.sqrt(np.diag(nQv)))\n",
    "pd.DataFrame(nQv)"
   ]
  },
  {
   "cell_type": "code",
   "execution_count": null,
   "metadata": {},
   "outputs": [],
   "source": [
    "Af = pd.DataFrame(A.round(3))\n",
    "Pf = pd.DataFrame(P.round(3))\n",
    "Nf = pd.DataFrame(N.round(3))\n",
    "Rtf = pd.DataFrame(Rt.round(3))\n",
    "Qxf = pd.DataFrame(Qx.round(3))\n",
    "sigma_hif = pd.DataFrame(sigma_hi.round(3))\n",
    "Qvf = pd.DataFrame(Qv.round(3))\n",
    "rif = pd.DataFrame(ri.round(3))\n",
    "Gif = pd.DataFrame(Gi.round(3))\n",
    "\n",
    "\n",
    "bNf = pd.DataFrame(bN.round(3))\n",
    "Btf = pd.DataFrame(Bt.round(3))\n",
    "bQxf = pd.DataFrame(bQx.round(3))\n",
    "bsigma_hif = pd.DataFrame(bsigma_hi.round(3))\n",
    "bQvf = pd.DataFrame(bQv.round(3))\n",
    "brif = pd.DataFrame(bri.round(3))\n",
    "bGif = pd.DataFrame(bGi.round(3))\n",
    "\n",
    "nAf = pd.DataFrame(nA.round(3))\n",
    "nPf = pd.DataFrame(nP.round(3))\n",
    "nNf = pd.DataFrame(nN.round(3))\n",
    "nQxf = pd.DataFrame(nQx.round(3))\n",
    "nsigma_hif = pd.DataFrame(nsigma_hi.round(3))\n",
    "nQvf = pd.DataFrame(nQv.round(3))\n",
    "nrif = pd.DataFrame(nri.round(3))\n",
    "nGif = pd.DataFrame(nGi.round(3))"
   ]
  },
  {
   "cell_type": "code",
   "execution_count": null,
   "metadata": {},
   "outputs": [],
   "source": [
    "dfs = {\"Matrica A\":Af,'Matrica P ' :Pf,\"Matrica N\":Nf,\"Matrica Rt\":Rtf,\"Matrica Qx\":Qxf,\"Mhi\":sigma_hif,\"Matrica Qv \":Qvf,\n",
    "       \"Elementi ri\":rif,\"Elementi Gi\":Gif,\n",
    "      \"Matrica bN\":bNf,\"Matrica Bt\":Btf,\"Matrica bQx\":bQxf,\"bMhi\":bsigma_hif,\"bMatrica Qv\":bQvf,\n",
    "       \"Elementi bri\":brif,\"bElementi bGi\":bGif,\n",
    "      \"Matrica nA\":nAf,'Matrica nP ' :nPf,\"Matrica nN\":nNf,\"Matrica nQx\":nQxf,\"nMhi\":nsigma_hif,\"nMatrica Qv \":nQvf,\n",
    "       \"Elementi nri\":nrif,\"Elementi nGi\":nGif}\n",
    "\n",
    "writer = pd.ExcelWriter('resenja2.xlsx', engine='xlsxwriter')\n",
    "for sheet_name in dfs.keys():\n",
    "    dfs[sheet_name].to_excel(writer, sheet_name=sheet_name, index=False,header = False)\n",
    "    \n",
    "writer.save()"
   ]
  },
  {
   "cell_type": "code",
   "execution_count": null,
   "metadata": {},
   "outputs": [],
   "source": [
    "nGi"
   ]
  },
  {
   "cell_type": "code",
   "execution_count": null,
   "metadata": {},
   "outputs": [],
   "source": []
  }
 ],
 "metadata": {
  "kernelspec": {
   "display_name": "Python 3",
   "language": "python",
   "name": "python3"
  },
  "language_info": {
   "codemirror_mode": {
    "name": "ipython",
    "version": 3
   },
   "file_extension": ".py",
   "mimetype": "text/x-python",
   "name": "python",
   "nbconvert_exporter": "python",
   "pygments_lexer": "ipython3",
   "version": "3.11.8"
  }
 },
 "nbformat": 4,
 "nbformat_minor": 2
}
