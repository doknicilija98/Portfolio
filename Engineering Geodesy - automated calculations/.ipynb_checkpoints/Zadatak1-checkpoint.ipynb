{
 "cells": [
  {
   "cell_type": "code",
   "execution_count": 1,
   "metadata": {},
   "outputs": [],
   "source": [
    "import math as m\n",
    "import numpy as np \n",
    "import pandas as pd\n",
    "import pprint\n",
    "from sklearn.feature_selection import chi2"
   ]
  },
  {
   "cell_type": "code",
   "execution_count": 2,
   "metadata": {},
   "outputs": [],
   "source": [
    "try:\n",
    "    kordinate = pd.read_csv('Kordinate.csv')\n",
    "    kordinate =kordinate.to_numpy()\n",
    "except:\n",
    "    print(\"Nisu ucitane kordinate\")\n",
    "try:\n",
    "    pravci = pd.read_csv('Pravci.csv')\n",
    "    pravci = pravci.to_numpy()\n",
    "    pravci = pravci -1\n",
    "except:\n",
    "    pravci = np.empty(shape=(0,0))\n",
    "try:\n",
    "    duzine = pd.read_csv('Duzine.csv')\n",
    "    duzine = duzine.to_numpy()\n",
    "    duzine = duzine -1\n",
    "except:\n",
    "    duzine =np.empty(shape=(0,0))\n",
    "try:\n",
    "    uglovi = pd.read_csv('Uglovi.csv')\n",
    "    uglovi.to_numpy()\n",
    "    uglovi = uglovi-1\n",
    "except:\n",
    "    uglovi = np.empty(shape=(0,0))\n",
    "ro = 180/m.pi*3600\n",
    "\n"
   ]
  },
  {
   "cell_type": "code",
   "execution_count": 3,
   "metadata": {},
   "outputs": [],
   "source": [
    "def direkcioni(y1,x1,y2,x2):\n",
    "    deltaY = y2-y1\n",
    "    deltaX = x2-x1 \n",
    "    \n",
    "    \n",
    "    if deltaX > 0  and deltaY > 0:\n",
    "        ugao = m.atan(abs(deltaY/deltaX))\n",
    "    elif deltaX < 0 and deltaY > 0:\n",
    "        ugao = m.atan(abs(deltaX/deltaY))+m.pi/2\n",
    "    elif deltaX <0 and deltaY < 0:\n",
    "        ugao = m.atan(abs(deltaY,deltaX))+ m.pi\n",
    "    elif deltaX > 0 and deltaY < 0 :\n",
    "        ugao = m.atan(abs(deltaX/deltaY))+(3/2)*m.pi\n",
    "    elif deltaX == 0 and deltaY > 0:\n",
    "        ugao = m.pi/2\n",
    "    elif deltaX == 0 and deltaY < 0:\n",
    "        ugao = m.pi*3/2\n",
    "    elif deltaX > 0 and deltaY ==0:\n",
    "        ugao = 0 \n",
    "    elif deltaX < 0 and deltaY ==0:\n",
    "        ugao = m.pi\n",
    "    \n",
    "    return ugao\n",
    "    \n",
    "def odstampajUgao(a):\n",
    "    minuta = (a%1)*60\n",
    "    sekunda =(minuta%1)*60\n",
    "    return \"{0}\\u00b0 {1}\\' {2}\\\"\".format(int(a),int(minuta),int(sekunda))\n",
    "    "
   ]
  },
  {
   "cell_type": "code",
   "execution_count": 4,
   "metadata": {},
   "outputs": [],
   "source": [
    "def direkcionik(kord1,kord2):\n",
    "    deltaY = kord2[0]-kord1[0]\n",
    "    deltaX = kord2[1]-kord1[1]\n",
    "    ugao = 0\n",
    "    \n",
    "    if deltaX > 0  and deltaY > 0:\n",
    "        ugao = m.atan(abs(deltaY/deltaX))\n",
    "    elif deltaX < 0 and deltaY > 0:\n",
    "        ugao = m.atan(abs(deltaX/deltaY))+m.pi/2\n",
    "    elif deltaX <0 and deltaY < 0:\n",
    "        ugao = m.atan(abs(deltaY/deltaX)) + m.pi\n",
    "    elif deltaX > 0 and deltaY < 0 :\n",
    "        ugao = m.atan(abs(deltaX/deltaY))+(3/2)*m.pi\n",
    "    elif deltaX == 0 and deltaY > 0:\n",
    "        ugao = m.pi/2\n",
    "    elif deltaX == 0 and deltaY < 0:\n",
    "        ugao = m.pi*3/2\n",
    "    elif deltaX > 0 and deltaY ==0:\n",
    "        ugao = 0 \n",
    "    elif deltaX < 0 and deltaY ==0:\n",
    "        ugao = m.pi\n",
    "    \n",
    "    return ugao"
   ]
  },
  {
   "cell_type": "code",
   "execution_count": 5,
   "metadata": {},
   "outputs": [],
   "source": [
    "def duzina(y1,x1,y2,x2):\n",
    "    return m.sqrt(m.pow((y2-y1),2)+m.pow((x2-x1),2))\n",
    "def duzinak(kord1,kord2):\n",
    "    return m.sqrt(m.pow((kord2[0]-kord1[0]),2)+m.pow((kord2[1]-kord1[1]),2))\n"
   ]
  },
  {
   "cell_type": "code",
   "execution_count": 6,
   "metadata": {},
   "outputs": [],
   "source": [
    "def pravcif(stanica,vizura):\n",
    "    diru = direkcionik(kordinate[stanica],kordinate[vizura])\n",
    "    duzina = duzinak(kordinate[stanica],kordinate[vizura])\n",
    "    aij = ro*m.sin(diru)/(duzina*1000)\n",
    "    bij = -ro*m.cos(diru)/(duzina*1000)\n",
    "    return aij,bij\n",
    "    \n",
    "\n",
    "def merened(stanica,vizura):\n",
    "    diru = direkcionik(kordinate[stanica],kordinate[vizura])\n",
    "    Aij = -m.cos(diru)\n",
    "    Bij = -m.sin(diru)\n",
    "    \n",
    "    return Aij, Bij"
   ]
  },
  {
   "cell_type": "code",
   "execution_count": 7,
   "metadata": {},
   "outputs": [],
   "source": [
    "def pravcip(p):\n",
    "    diru = direkcionik(kordinate[p[0]],kordinate[p[1]])\n",
    "    duzina = duzinak(kordinate[p[0]],kordinate[p[1]])\n",
    "    aij = ro*m.sin(diru)/(duzina*1000)\n",
    "    bij = -ro*m.cos(diru)/(duzina*1000)\n",
    "    return aij,bij\n",
    "    \n",
    "def merenedd(d):\n",
    "    diru = direkcionik(kordinate[d[0]],kordinate[d[1]])\n",
    "    Aij = -m.cos(diru)\n",
    "    Bij = -m.sin(diru)\n",
    "    \n",
    "    return Aij, Bij"
   ]
  },
  {
   "cell_type": "code",
   "execution_count": 8,
   "metadata": {},
   "outputs": [
    {
     "data": {
      "text/plain": [
       "111.58787390214061"
      ]
     },
     "execution_count": 8,
     "metadata": {},
     "output_type": "execute_result"
    }
   ],
   "source": [
    "duzinak(kordinate[6],kordinate[0])"
   ]
  },
  {
   "cell_type": "code",
   "execution_count": 9,
   "metadata": {},
   "outputs": [],
   "source": [
    "def kolonaAP(arr):\n",
    "    kolonaA = np.zeros((1,kordinate.size+len(np.unique(pravci[:,0]))),dtype = float)\n",
    "    kolonaA[0,2*arr[0]],kolonaA[0,2*arr[0]+1] = pravcip(arr)[1],pravcip(arr)[0]\n",
    "    kolonaA[0,2*arr[1]],kolonaA[0,2*arr[1]+1] = -kolonaA[0,2*arr[0]],-kolonaA[0,2*arr[0]+1]\n",
    "    kolonaA[0,kordinate.size+arr[0]]=1\n",
    "    return kolonaA\n",
    "    \n",
    "def kolonaAD(arr):\n",
    "    kolonaA = np.zeros((1,kordinate.size+len(np.unique(pravci[:,0]))),dtype = float)\n",
    "    kolonaA[0,2*arr[0]],kolonaA[0,2*arr[0]+1] = merenedd(arr)[1],merenedd(arr)[0]\n",
    "    kolonaA[0,2*arr[1]],kolonaA[0,2*arr[1]+1] = -kolonaA[0,2*arr[0]],-kolonaA[0,2*arr[0]+1]\n",
    "    return kolonaA\n",
    "\n"
   ]
  },
  {
   "cell_type": "code",
   "execution_count": 10,
   "metadata": {},
   "outputs": [],
   "source": [
    "def kolonaAU(arr):\n",
    "    kolonaA = np.zeros((1,kordinate.size+len(np.unique(pravci[:,0]))),dtype = float)\n",
    "    kolonaA[0,2*arr[0]]=pravcip(arr[[0,1]])[1] -pravcip(arr[[0,2]])[1]\n",
    "    kolonaA[0,2*arr[0]+1]=pravcip(arr[[0,1]])[0]-pravcip(arr[[0,2]])[0]\n",
    "    kolonaA[0,2*arr[1]]=pravcip(arr[[1,0]])[1]\n",
    "    kolonaA[0,2*arr[1]+1]=pravcip(arr[[1,0]])[0]\n",
    "    kolonaA[0,2*arr[2]]=-pravcip(arr[[2,0]])[1]\n",
    "    kolonaA[0,2*arr[2]+1]=-pravcip(arr[[2,0]])[0]\n",
    "    \n",
    "    return kolonaA"
   ]
  },
  {
   "cell_type": "code",
   "execution_count": 11,
   "metadata": {},
   "outputs": [],
   "source": [
    "def matricaA(pravci,duzine,uglovi):\n",
    "    \n",
    "    if pravci.size and not duzine.size and not uglovi.size:\n",
    "        arrays1 = [kolonaAP(i) for i in pravci] \n",
    "        A = np.vstack(tuple(arrays1)) \n",
    "        \n",
    "    elif duzine.size and not pravci.size and not uglovi.size:\n",
    "        arrays2 = [kolonaAD(i) for i in duzine]\n",
    "        A=np.vstack(tuple(arrays2))  \n",
    "    \n",
    "    elif uglovi.size and not duzine.size and not pravci.size:\n",
    "        arrays3 = [kolonaAU(i) for i in uglovi]\n",
    "        A=np.vstack(tuple(arrays3)) \n",
    "        \n",
    "    elif pravci.size and duzine.size and not uglovi.size:\n",
    "        arrays1 = [kolonaAP(i) for i in pravci] \n",
    "        P = np.vstack(tuple(arrays1))\n",
    "        arrays2 = [kolonaAD(i) for i in duzine]\n",
    "        D=np.vstack(tuple(arrays2))\n",
    "        A = np.vstack((P,D))\n",
    "    elif pravci.size and not duzine.size and uglovi.size:\n",
    "        arrays1 = [kolonaAP(i) for i in pravci] \n",
    "        P = np.vstack(tuple(arrays1))\n",
    "        arrays3 = [kolonaAU(i) for i in uglovi]\n",
    "        U=np.vstack(tuple(arrays3)) \n",
    "        A = np.vstack((P,U))\n",
    "    elif not pravci.shape and duzine.size and uglovi.size:\n",
    "        arrays3 = [kolonaAU(i) for i in uglovi]\n",
    "        U=np.vstack(tuple(arrays3)) \n",
    "        arrays2 = [kolonaAD(i) for i in duzine]\n",
    "        D=np.vstack(tuple(arrays2))\n",
    "        A = np.vstack((D,U))\n",
    "    elif pravci.shape and duzine.size and uglovi.size:\n",
    "        arrays1 = [kolonaAP(i) for i in pravci] \n",
    "        P = np.vstack(tuple(arrays1))\n",
    "        arrays3 = [kolonaAU(i) for i in uglovi]\n",
    "        U=np.vstack(tuple(arrays3)) \n",
    "        arrays2 = [kolonaAD(i) for i in duzine]\n",
    "        D=np.vstack(tuple(arrays2))\n",
    "        A = np.vstack((P,D,U))\n",
    "        \n",
    "        \n",
    "        \n",
    "    return A\n",
    "A = matricaA(pravci,duzine,uglovi)\n"
   ]
  },
  {
   "cell_type": "code",
   "execution_count": 12,
   "metadata": {},
   "outputs": [],
   "source": [
    "br_girusa = 1\n",
    "br_merenja =3\n",
    "sigma_p = 2\n",
    "sigma_d = [3,3]\n",
    "sigma = 1 "
   ]
  },
  {
   "cell_type": "code",
   "execution_count": 13,
   "metadata": {},
   "outputs": [
    {
     "data": {
      "text/plain": [
       "array([0.25, 0.25, 0.25, 0.25, 0.25, 0.25, 0.25, 0.25, 0.25, 0.25, 0.25,\n",
       "       0.25, 0.25, 0.25, 0.25, 0.25, 0.25, 0.25])"
      ]
     },
     "execution_count": 13,
     "metadata": {},
     "output_type": "execute_result"
    }
   ],
   "source": [
    "def p_alpha(sigma_p,br_girusa,sigma,pravci):\n",
    "    sigma_a = sigma_p/m.sqrt(br_girusa)\n",
    "    p_alpha = np.array([sigma/sigma_a**2 for i in range(pravci.shape[0])])\n",
    "    return p_alpha\n",
    "a = p_alpha(sigma_p,br_girusa,sigma,pravci)\n",
    "a\n"
   ]
  },
  {
   "cell_type": "code",
   "execution_count": 14,
   "metadata": {},
   "outputs": [
    {
     "data": {
      "text/plain": [
       "array([0.23, 0.24, 0.27, 0.23, 0.28, 0.23, 0.28, 0.27, 0.28, 0.27, 0.24,\n",
       "       0.27, 0.24, 0.27, 0.28, 0.27, 0.28])"
      ]
     },
     "execution_count": 14,
     "metadata": {},
     "output_type": "execute_result"
    }
   ],
   "source": [
    "def p_duzina(br_merenja,sigma_d,sigma,kordinate):\n",
    "    duzina = []\n",
    "    for i in duzine:\n",
    "        duzina.append(duzinak(kordinate[i[0]],kordinate[i[1]]))\n",
    "    duzina = np.array(duzina)\n",
    "    d_sigma = np.array([1,2])\n",
    "    d_sigma = sigma_d[0]+sigma_d[1]*(duzina/1000)\n",
    "    d_sigma = d_sigma/m.sqrt(br_merenja)\n",
    "    \n",
    "    p_duzina = sigma/d_sigma**2\n",
    "\n",
    "    return p_duzina\n",
    "\n",
    "a=p_duzina(br_merenja,sigma_d,sigma,kordinate)\n",
    "a.round(2)"
   ]
  },
  {
   "cell_type": "code",
   "execution_count": 15,
   "metadata": {},
   "outputs": [],
   "source": [
    "def p_uglova(sigma_p,br_girusa,sigma,uglovi):\n",
    "    sigma_a = sigma_p/m.sqrt(br_girusa)\n",
    "    p_alpha = np.array([sigma/sigma_a**2 for i in range(uglovi.shape[0])])\n",
    "    return p_alpha*m.sqrt(2)"
   ]
  },
  {
   "cell_type": "code",
   "execution_count": 16,
   "metadata": {},
   "outputs": [
    {
     "data": {
      "text/plain": [
       "(35, 21)"
      ]
     },
     "execution_count": 16,
     "metadata": {},
     "output_type": "execute_result"
    }
   ],
   "source": [
    "def matricaP(sigma_p,br_girusa,sigma,pravci,br_merenja,sigma_d,kordinate,uglovi):\n",
    "    p_a = p_alpha(sigma_p,br_girusa,sigma,pravci)\n",
    "    p_d=p_duzina(br_merenja,sigma_d,sigma,kordinate)\n",
    "    p_u = p_uglova(sigma_p,br_girusa,sigma,uglovi)\n",
    "    p=np.append(p_a,p_d)\n",
    "    p = np.append(p,p_u)\n",
    "    P = np.diag(p)\n",
    "    return P\n",
    "    \n",
    "A.shape"
   ]
  },
  {
   "cell_type": "code",
   "execution_count": 17,
   "metadata": {},
   "outputs": [
    {
     "data": {
      "text/plain": [
       "(35, 35)"
      ]
     },
     "execution_count": 17,
     "metadata": {},
     "output_type": "execute_result"
    }
   ],
   "source": [
    "P = matricaP(sigma_p,br_girusa,sigma,pravci,br_merenja,sigma_d,kordinate,uglovi)\n",
    "np.diag(P)\n",
    "P.shape"
   ]
  },
  {
   "cell_type": "code",
   "execution_count": 18,
   "metadata": {},
   "outputs": [],
   "source": [
    "N = np.matmul(np.matmul(A.transpose(),P),A)\n",
    "\n"
   ]
  },
  {
   "cell_type": "markdown",
   "metadata": {},
   "source": [
    "## Analiza tacnosti"
   ]
  },
  {
   "cell_type": "code",
   "execution_count": 19,
   "metadata": {},
   "outputs": [],
   "source": [
    "tacka1 = 'y5'\n",
    "tacka2 = 'x5'\n",
    "tacka3 ='y2'\n",
    "\n"
   ]
  },
  {
   "cell_type": "code",
   "execution_count": 20,
   "metadata": {},
   "outputs": [],
   "source": [
    "def indexRT(s):\n",
    "    br = 0\n",
    "    if s[0].upper() ==\"Y\":\n",
    "        var = 0\n",
    "    elif s[0].upper() == \"X\":\n",
    "        var = 1\n",
    "    else:\n",
    "        return \"Pogresno ste uneli kordinatu\"\n",
    "    try:\n",
    "        br = int(s[1]) - 1 \n",
    "    except:\n",
    "        print(\"Pogresno ste uneli kordinatu\")\n",
    "    \n",
    "    return 2*br + var"
   ]
  },
  {
   "cell_type": "code",
   "execution_count": 21,
   "metadata": {},
   "outputs": [],
   "source": [
    "def matricaR(tacka1,tacka2,tacka3):\n",
    "    R=np.zeros((3,kordinate.size+len(np.unique(pravci[:,0]))),dtype = float)\n",
    "    R[0][indexRT(tacka1)]=1\n",
    "    R[1][indexRT(tacka2)]=1\n",
    "    R[2][indexRT(tacka3)]=1\n",
    "    return R"
   ]
  },
  {
   "cell_type": "code",
   "execution_count": 22,
   "metadata": {},
   "outputs": [],
   "source": [
    "R = matricaR(tacka1,tacka2,tacka3)\n"
   ]
  },
  {
   "cell_type": "code",
   "execution_count": 23,
   "metadata": {},
   "outputs": [
    {
     "data": {
      "text/plain": [
       "(24, 24)"
      ]
     },
     "execution_count": 23,
     "metadata": {},
     "output_type": "execute_result"
    }
   ],
   "source": [
    "Nplus =np.hstack((np.vstack((N,R)),np.vstack((R.transpose(),np.zeros((R.shape[0],R.shape[0]))))))\n",
    "Nplus.shape\n"
   ]
  },
  {
   "cell_type": "code",
   "execution_count": 24,
   "metadata": {},
   "outputs": [],
   "source": [
    "def matricaN(A,P,RB):\n",
    "    N = np.matmul(np.matmul(A.transpose(),P),A)\n",
    "    N =np.hstack((np.vstack((N,RB)),np.vstack((RB.transpose(),np.zeros((RB.shape[0],RB.shape[0]))))))\n",
    "    return N\n",
    "    "
   ]
  },
  {
   "cell_type": "code",
   "execution_count": 25,
   "metadata": {},
   "outputs": [],
   "source": [
    "N = matricaN(A,P,R)\n"
   ]
  },
  {
   "cell_type": "code",
   "execution_count": 26,
   "metadata": {},
   "outputs": [],
   "source": [
    "def kv(Qxy,Qxx,Qyy):\n",
    "    var1 = 2*Qxy\n",
    "    var2 = Qxx-Qyy\n",
    "    k=0\n",
    "    K = np.zeros(var1.shape[0])\n",
    "    for i in range(var1.shape[0]):\n",
    "\n",
    "        if var1[i] > 0 and var2[i] >0:\n",
    "            k = 0\n",
    "        elif var1[i] >0 and var2[i] <0:\n",
    "            k = m.pi\n",
    "        elif var1[i] < 0 and var2[i] < 0:\n",
    "            k =m.pi\n",
    "        elif var1[i] < 0 and var2[i] >0:\n",
    "            k = 2*m.pi\n",
    "        elif var1[i] ==0:\n",
    "            k=0\n",
    "        K[i]=k\n",
    "\n",
    "    return K"
   ]
  },
  {
   "cell_type": "code",
   "execution_count": null,
   "metadata": {},
   "outputs": [],
   "source": [
    "\n"
   ]
  },
  {
   "cell_type": "code",
   "execution_count": 27,
   "metadata": {},
   "outputs": [],
   "source": [
    "def analizaTacnosti(A,P,N,RB):\n",
    "    Qx = np.linalg.inv(N)\n",
    "    Qx_kap = Qx[:-RB.shape[0] ,:-RB.shape[0]]\n",
    "    Qx_kap = np.round(Qx_kap,decimals=5)\n",
    "    Qi = np.matmul(np.matmul(A,Qx_kap),A.transpose())\n",
    "    Qv = np.linalg.inv(P) - Qi\n",
    "    Qxi = np.diag(Qx_kap)\n",
    "    Qxi = Qxi[:kordinate.size]\n",
    "    Qyy = Qxi[0::2]\n",
    "    Qyy = np.round(Qyy,decimals = 3)\n",
    "    Qxx = Qxi[1::2]\n",
    "    Qxx = np.round(Qxx,decimals = 3)\n",
    "    Qxy = np.diag(Qx_kap,k=1)[:kordinate.size][::2]\n",
    "    sigma_y = sigma*np.sqrt(Qyy)\n",
    "    sigma_x = sigma*np.sqrt(Qxx)\n",
    "    sigma_polozaja = np.sqrt(sigma_y**2 + sigma_x**2)\n",
    "    k = np.sqrt((Qxx-Qyy)**2 +4*Qxy**2)\n",
    "    lamda1 = 0.5*(Qxx+Qyy + k)\n",
    "    lamda2 = 0.5*(Qxx+Qyy-k)\n",
    "    chi = 5.99146454710798\n",
    "    Ai = sigma*np.sqrt(lamda1*chi)\n",
    "    Bi = sigma*np.sqrt(lamda2*chi)\n",
    "    KV = kv(Qxy,Qxx,Qyy)\n",
    "    theta = 0.5*(np.arctan(2*Qxy/(Qxx-Qyy))+KV)\n",
    "    theta[np.isnan(theta)]=0\n",
    "    np.degrees(theta)\n",
    "    theta_deg = np.degrees(theta)\n",
    "    \n",
    "    return Qx,Qi,Qv,Qxi,Qyy,Qxx,Qxy,sigma_y,sigma_x,sigma_polozaja,k,lamda1,lamda2,Ai,Bi,theta,theta_deg"
   ]
  },
  {
   "cell_type": "code",
   "execution_count": 28,
   "metadata": {},
   "outputs": [
    {
     "name": "stderr",
     "output_type": "stream",
     "text": [
      "C:\\Users\\vule2\\Anaconda3\\lib\\site-packages\\ipykernel_launcher.py:24: RuntimeWarning: invalid value encountered in true_divide\n"
     ]
    }
   ],
   "source": [
    "Qx,Qi,Qv,Qxi,Qyy,Qxx,Qxy,sigma_y,sigma_x,sigma_polozaja,k,lamda1,lamda2,Ai,Bi,theta,theta_deg = analizaTacnosti(A,P,N,R)"
   ]
  },
  {
   "cell_type": "markdown",
   "metadata": {},
   "source": [
    "## Unutrasnja pouzdanost\n"
   ]
  },
  {
   "cell_type": "code",
   "execution_count": 29,
   "metadata": {},
   "outputs": [],
   "source": [
    "def unustarsnjaPouzdanost(Qv,P):\n",
    "    Qvi = np.diag(Qv)\n",
    "    Pi=np.diag(P)\n",
    "    ri = Qvi*Pi\n",
    "    Gi =2.802/(Pi*np.sqrt(Qvi))\n",
    "    return ri,Gi\n",
    "ri,Gi = unustarsnjaPouzdanost(Qv,P)\n"
   ]
  },
  {
   "cell_type": "markdown",
   "metadata": {},
   "source": [
    "## Zadatak pod B"
   ]
  },
  {
   "cell_type": "code",
   "execution_count": 30,
   "metadata": {},
   "outputs": [],
   "source": [
    "def matricaB(kordinate,pravci,duzine):\n",
    "    x0=np.average(kordinate[:,1])\n",
    "    y0=np.average(kordinate[:,0])\n",
    "    g = m.sqrt(np.sum((kordinate[:,1]-x0)**2) + np.sum((kordinate[:,0]-y0)**2))\n",
    "    yeta =(kordinate[:,0]-y0)/g\n",
    "    xeta =(kordinate[:,1]-x0)/g \n",
    "    Bt = np.zeros((3,kordinate.size+len(np.unique(pravci[:,0]))),dtype = float)\n",
    "    var = 1/(m.sqrt(kordinate.shape[0]))\n",
    "    Bt[0,0:kordinate.size:2]=var\n",
    "    Bt[1,1:kordinate.size:2]=var\n",
    "    Bt[2,:kordinate.size:2]=-xeta\n",
    "    Bt[2,1:kordinate.size:2]=yeta\n",
    "    if not duzine.size:\n",
    "        bt4 = np.zeros((1,kordinate.size+len(np.unique(pravci[:,0]))),dtype = float)\n",
    "        bt4[0,:kordinate.size:2]=yeta\n",
    "        bt4[0,1:kordinate.size:2]=xeta\n",
    "        Bt = np.vstack((Bt,bt4))\n",
    "    return Bt\n",
    "  "
   ]
  },
  {
   "cell_type": "code",
   "execution_count": 31,
   "metadata": {},
   "outputs": [],
   "source": [
    "B = matricaB(kordinate,pravci,duzine)\n",
    "bN = matricaN(A,P,B)\n"
   ]
  },
  {
   "cell_type": "code",
   "execution_count": 32,
   "metadata": {},
   "outputs": [],
   "source": [
    "bQx,bQi,bQv,bQxi,bQyy,bQxx,bQxy,bsigma_y,bsigma_x,bsigma_polozaja,bk,blamda1,blamda2,bAi,bBi,btheta,btheta_deg = analizaTacnosti(A,P,bN,B)"
   ]
  },
  {
   "cell_type": "code",
   "execution_count": 33,
   "metadata": {},
   "outputs": [],
   "source": [
    "bri,bGi=unustarsnjaPouzdanost(bQv,P)"
   ]
  },
  {
   "cell_type": "code",
   "execution_count": 34,
   "metadata": {},
   "outputs": [],
   "source": [
    "Af = pd.DataFrame(A.round(3))\n",
    "Pf = pd.DataFrame(P.round(3))\n",
    "Nf = pd.DataFrame(N.round(3))\n",
    "Rf = pd.DataFrame(R.round(3))\n",
    "Qxf = pd.DataFrame(Qx.round(3))\n",
    "Qif = pd.DataFrame(Qi.round(3))\n",
    "Qvf = pd.DataFrame(Qv.round(3))\n",
    "Qxif = pd.DataFrame(Qxi.round(3))\n",
    "Qyyf = pd.DataFrame(Qyy.round(3))\n",
    "Qxxf = pd.DataFrame(Qxx.round(3))\n",
    "Qxyf = pd.DataFrame(Qxy.round(3))\n",
    "sigma_yf = pd.DataFrame(sigma_y.round(3))\n",
    "sigma_xf = pd.DataFrame(sigma_x.round(3))\n",
    "sigma_polozajaf= pd.DataFrame(sigma_polozaja.round(3))\n",
    "lamda1f = pd.DataFrame(lamda1.round(3))\n",
    "lamda2f= pd.DataFrame(lamda2.round(3))\n",
    "Aif = pd.DataFrame(Ai.round(3))\n",
    "Bif = pd.DataFrame(Bi.round(3))\n",
    "thetaf = pd.DataFrame(theta.round(3))\n",
    "theta_degf = pd.DataFrame(theta_deg.round(3))\n",
    "rif = pd.DataFrame(ri.round(3))\n",
    "Gif = pd.DataFrame(Gi.round(3))\n",
    "\n",
    "Btf = pd.DataFrame(B.round(3))\n",
    "bNf = pd.DataFrame(bN.round(3))\n",
    "bQxf = pd.DataFrame(bQx.round(3))\n",
    "bQif = pd.DataFrame(bQi.round(3))\n",
    "bQvf = pd.DataFrame(bQv.round(3))\n",
    "bQxif = pd.DataFrame(bQxi.round(3))\n",
    "bQyyf = pd.DataFrame(bQyy.round(3))\n",
    "bQxxf = pd.DataFrame(bQxx.round(3))\n",
    "bQxyf = pd.DataFrame(bQxy.round(3))\n",
    "bsigma_yf = pd.DataFrame(bsigma_y.round(3))\n",
    "bsigma_xf = pd.DataFrame(bsigma_x.round(3))\n",
    "bsigma_polozajaf= pd.DataFrame(bsigma_polozaja.round(3))\n",
    "blamda1f = pd.DataFrame(blamda1.round(3))\n",
    "blamda2f= pd.DataFrame(blamda2.round(3))\n",
    "bAif = pd.DataFrame(bAi.round(3))\n",
    "bBif = pd.DataFrame(bBi.round(3))\n",
    "bthetaf = pd.DataFrame(btheta.round(3))\n",
    "btheta_degf = pd.DataFrame(btheta_deg.round(3))\n",
    "brif = pd.DataFrame(bri.round(3))\n",
    "bGif = pd.DataFrame(bGi.round(3))\n"
   ]
  },
  {
   "cell_type": "code",
   "execution_count": 35,
   "metadata": {},
   "outputs": [],
   "source": [
    "dfs = {\"Matrica A\":Af,\"Matrica P\": Pf ,\"Matrica N\":Nf,\"Matrica R\":Rf, \"Matrica Qx\":Qxf,\"Matrica Qi\" : Qif,\"Matrica Qv\":Qvf,\n",
    "      \"Matrica Qxi\":Qxif,\"Matrica Qyy\":Qyyf,\"Matrica Qxx\":Qxxf,\"Matrica Qxy\":Qxyf,\" Sigma y\":sigma_yf,\"Sigma x\":sigma_xf,\n",
    "       \"Sigma polozaja\":sigma_polozajaf,\"Lamda 1\":lamda1f,\"Lamda 2\":lamda2f,\"Elementi Ai\":Aif,\"Elementi Bi\":Bif,\"Teta\":thetaf,\n",
    "       \"Elementi ri\":rif,\"Elementi Gi\":Gif,\"Zadatak pod b \":pd.DataFrame(),\"Matrica Bt\":Btf, \"Matrica bN\":bNf, \"Matrica bQx\":bQxf,\n",
    "       \"Matrica bQi\" : bQif,\"Matrica bQv\":bQvf,\n",
    "       \"Matrica bQxi\":bQxif,\"Matrica bQyy\":bQyyf,\"Matrica bQxx\":bQxxf,\"Matrica bQxy\":bQxyf,\" Sigma by\":bsigma_yf,\"Sigma bx\":bsigma_xf,\n",
    "       \"Sigma polozajab\":bsigma_polozajaf,\"Lamda b1\":blamda1f,\"Lamda b2\":blamda2f,\n",
    "       \"Elementi bAi\":bAif,\"Elementi bBi\":bBif,\"Tetab\":bthetaf,\"Elementi bri\":brif,\"Elementi bGi\":bGif\n",
    "      }\n",
    "\n",
    "writer = pd.ExcelWriter('resenja.xlsx', engine='xlsxwriter')\n",
    "for sheet_name in dfs.keys():\n",
    "    dfs[sheet_name].to_excel(writer, sheet_name=sheet_name, index=False,header = False)\n",
    "    \n",
    "writer.save()"
   ]
  },
  {
   "cell_type": "code",
   "execution_count": 36,
   "metadata": {},
   "outputs": [],
   "source": [
    "def resenje(kordinate,pravci,duzine,uglovi,br_girusa,br_merenja,sigma_p,sigma_d,sigma,tacka1,tacka2,tacka3):\n",
    "    \n",
    "    A = matricaA(pravci,duzine,uglovi)\n",
    "    P = matricaP(sigma_p,br_girusa,sigma,pravci,br_merenja,sigma_d,kordinate,uglovi)\n",
    "    R = matricaR(tacka1,tacka2,tacka3)\n",
    "    N = matricaN(A,P,R)\n",
    "    Qx,Qi,Qv,Qxi,Qyy,Qxx,Qxy,sigma_y,sigma_x,sigma_polozaja,k,lamda1,lamda2,Ai,Bi,theta,theta_deg = analizaTacnosti(A,P,N,R)\n",
    "    ri,Gi = unustarsnjaPouzdanost(Qv,P)\n",
    "    B = matricaB(kordinate,pravci,duzine)\n",
    "    bN = matricaN(A,P,B)\n",
    "    bQx,bQi,bQv,bQxi,bQyy,bQxx,bQxy,bsigma_y,bsigma_x,bsigma_polozaja,bk,blamda1,blamda2,bAi,bBi,btheta,btheta_deg = analizaTacnosti(A,P,bN,B)\n",
    "    bri,bGi=unustarsnjaPouzdanost(bQv,P)\n",
    "    \n",
    "    Af = pd.DataFrame(A.round(3))\n",
    "    Pf = pd.DataFrame(P.round(3))\n",
    "    Nf = pd.DataFrame(N.round(3))\n",
    "    Rf = pd.DataFrame(R.round(3))\n",
    "    Qxf = pd.DataFrame(Qx.round(3))\n",
    "    Qif = pd.DataFrame(Qi.round(3))\n",
    "    Qvf = pd.DataFrame(Qv.round(3))\n",
    "    Qxif = pd.DataFrame(Qxi.round(3))\n",
    "    Qyyf = pd.DataFrame(Qyy.round(3))\n",
    "    Qxxf = pd.DataFrame(Qxx.round(3))\n",
    "    Qxyf = pd.DataFrame(Qxy.round(3))\n",
    "    sigma_yf = pd.DataFrame(sigma_y.round(3))\n",
    "    sigma_xf = pd.DataFrame(sigma_x.round(3))\n",
    "    sigma_polozajaf= pd.DataFrame(sigma_polozaja.round(3))\n",
    "    lamda1f = pd.DataFrame(lamda1.round(3))\n",
    "    lamda2f= pd.DataFrame(lamda2.round(3))\n",
    "    Aif = pd.DataFrame(Ai.round(3))\n",
    "    Bif = pd.DataFrame(Bi.round(3))\n",
    "    thetaf = pd.DataFrame(theta.round(3))\n",
    "    theta_degf = pd.DataFrame(theta_deg.round(3))\n",
    "    rif = pd.DataFrame(ri.round(3))\n",
    "    Gif = pd.DataFrame(Gi.round(3))\n",
    "\n",
    "    Btf = pd.DataFrame(B.round(3))\n",
    "    bNf = pd.DataFrame(bN.round(3))\n",
    "    bQxf = pd.DataFrame(bQx.round(3))\n",
    "    bQif = pd.DataFrame(bQi.round(3))\n",
    "    bQvf = pd.DataFrame(bQv.round(3))\n",
    "    bQxif = pd.DataFrame(bQxi.round(3))\n",
    "    bQyyf = pd.DataFrame(bQyy.round(3))\n",
    "    bQxxf = pd.DataFrame(bQxx.round(3))\n",
    "    bQxyf = pd.DataFrame(bQxy.round(3))\n",
    "    bsigma_yf = pd.DataFrame(bsigma_y.round(3))\n",
    "    bsigma_xf = pd.DataFrame(bsigma_x.round(3))\n",
    "    bsigma_polozajaf= pd.DataFrame(bsigma_polozaja.round(3))\n",
    "    blamda1f = pd.DataFrame(blamda1.round(3))\n",
    "    blamda2f= pd.DataFrame(blamda2.round(3))\n",
    "    bAif = pd.DataFrame(bAi.round(3))\n",
    "    bBif = pd.DataFrame(bBi.round(3))\n",
    "    bthetaf = pd.DataFrame(btheta.round(3))\n",
    "    btheta_degf = pd.DataFrame(btheta_deg.round(3))\n",
    "    brif = pd.DataFrame(bri.round(3))\n",
    "    bGif = pd.DataFrame(bGi.round(3))\n",
    "\n",
    "\n",
    "    dfs = {\"Matrica A\":Af,\"Matrica P\": Pf ,\"Matrica N\":Nf,\"Matrica R\":Rf, \"Matrica Qx\":Qxf,\"Matrica Qi\" : Qif,\"Matrica Qv\":Qvf,\n",
    "      \"Matrica Qxi\":Qxif,\"Matrica Qyy\":Qyyf,\"Matrica Qxx\":Qxxf,\"Matrica Qxy\":Qxyf,\" Sigma y\":sigma_yf,\"Sigma x\":sigma_xf,\n",
    "       \"Sigma polozaja\":sigma_polozajaf,\"Lamda 1\":lamda1f,\"Lamda 2\":lamda2f,\"Elementi Ai\":Aif,\"Elementi Bi\":Bif,\"Teta\":thetaf,\n",
    "       \"Elementi ri\":rif,\"Elementi Gi\":Gif,\"Zadatak pod b \":pd.DataFrame(),\"Matrica Bt\":Btf, \"Matrica bN\":bNf, \"Matrica bQx\":bQxf,\n",
    "       \"Matrica bQi\" : bQif,\"Matrica bQv\":bQvf,\n",
    "       \"Matrica bQxi\":bQxif,\"Matrica bQyy\":bQyyf,\"Matrica bQxx\":bQxxf,\"Matrica bQxy\":bQxyf,\" Sigma by\":bsigma_yf,\"Sigma bx\":bsigma_xf,\n",
    "       \"Sigma polozajab\":bsigma_polozajaf,\"Lamda b1\":blamda1f,\"Lamda b2\":blamda2f,\n",
    "       \"Elementi bAi\":bAif,\"Elementi bBi\":bBif,\"Tetab\":bthetaf,\"Elementi bri\":brif,\"Elementi bGi\":bGif\n",
    "      }\n",
    "\n",
    "    writer = pd.ExcelWriter('resenja.xlsx', engine='xlsxwriter')\n",
    "    for sheet_name in dfs.keys():\n",
    "        dfs[sheet_name].to_excel(writer, sheet_name=sheet_name, index=False,header = False)\n",
    "\n",
    "    writer.save()\n",
    "    \n",
    "    "
   ]
  }
 ],
 "metadata": {
  "kernelspec": {
   "display_name": "Python 3",
   "language": "python",
   "name": "python3"
  },
  "language_info": {
   "codemirror_mode": {
    "name": "ipython",
    "version": 3
   },
   "file_extension": ".py",
   "mimetype": "text/x-python",
   "name": "python",
   "nbconvert_exporter": "python",
   "pygments_lexer": "ipython3",
   "version": "3.8.0"
  }
 },
 "nbformat": 4,
 "nbformat_minor": 2
}
