{
 "cells": [
  {
   "cell_type": "code",
   "execution_count": 1,
   "metadata": {},
   "outputs": [],
   "source": [
    "import numpy as np \n",
    "import pandas as pd \n",
    "import math as m\n",
    "np.set_printoptions(suppress=True)"
   ]
  },
  {
   "cell_type": "code",
   "execution_count": 2,
   "metadata": {},
   "outputs": [],
   "source": [
    "visine = pd.read_csv('Visine.csv')\n",
    "visine = np.asarray(visine)"
   ]
  },
  {
   "cell_type": "code",
   "execution_count": 3,
   "metadata": {},
   "outputs": [
    {
     "data": {
      "text/plain": [
       "array([[  0.    ,   0.    ,  20.    ,  40.    ],\n",
       "       [  0.    ,   6.554 ,   7.071 ,   6.626 ],\n",
       "       [ 20.    ,   6.323 ,   6.681 ,   6.593 ],\n",
       "       [ 40.    ,   6.214 ,   6.368 ,   6.444 ],\n",
       "       [ 60.    ,   6.74  ,   6.759 ,   6.114 ],\n",
       "       [ 80.    ,   6.0675,   6.29  ,   6.539 ],\n",
       "       [100.    ,   6.525 ,   6.86  ,   6.998 ],\n",
       "       [120.    ,   6.012 ,   6.657 ,   7.121 ],\n",
       "       [140.    ,   6.812 ,   7.19  ,   7.437 ]])"
      ]
     },
     "execution_count": 3,
     "metadata": {},
     "output_type": "execute_result"
    }
   ],
   "source": [
    "k=visine\n",
    "k\n"
   ]
  },
  {
   "cell_type": "code",
   "execution_count": 4,
   "metadata": {},
   "outputs": [],
   "source": [
    "def matricaA(visine):\n",
    "    A = np.zeros(((visine.shape[0]-1)*(visine.shape[1]-1),3))\n",
    "    A[:,0]=1\n",
    "    A[:,1]=np.repeat(-visine[0,1:],visine.shape[0]-1)\n",
    "    A[:,2]=np.tile(-visine[1:,0],visine.shape[1]-1)\n",
    "    \n",
    "    return A"
   ]
  },
  {
   "cell_type": "code",
   "execution_count": 5,
   "metadata": {},
   "outputs": [
    {
     "data": {
      "text/plain": [
       "array([[-6.554 ],\n",
       "       [-6.323 ],\n",
       "       [-6.214 ],\n",
       "       [-6.74  ],\n",
       "       [-6.0675],\n",
       "       [-6.525 ],\n",
       "       [-6.012 ],\n",
       "       [-6.812 ],\n",
       "       [-7.071 ],\n",
       "       [-6.681 ],\n",
       "       [-6.368 ],\n",
       "       [-6.759 ],\n",
       "       [-6.29  ],\n",
       "       [-6.86  ],\n",
       "       [-6.657 ],\n",
       "       [-7.19  ],\n",
       "       [-6.626 ],\n",
       "       [-6.593 ],\n",
       "       [-6.444 ],\n",
       "       [-6.114 ],\n",
       "       [-6.539 ],\n",
       "       [-6.998 ],\n",
       "       [-7.121 ],\n",
       "       [-7.437 ]])"
      ]
     },
     "execution_count": 5,
     "metadata": {},
     "output_type": "execute_result"
    }
   ],
   "source": [
    "def matricaF(visine):\n",
    "    F = -visine[1:,1:].flatten('F')\n",
    "    F = F.reshape(-1,1)\n",
    "    return F\n",
    "F = matricaF(k)\n",
    "F"
   ]
  },
  {
   "cell_type": "code",
   "execution_count": 6,
   "metadata": {},
   "outputs": [],
   "source": [
    "A = matricaA(k)"
   ]
  },
  {
   "cell_type": "code",
   "execution_count": 27,
   "metadata": {},
   "outputs": [],
   "source": [
    "def neuslovljena(visine,A,F):\n",
    "    nn,u = A.shape\n",
    "    N = np.matmul(A.transpose(),A)\n",
    "    Qx = np.linalg.inv(N)\n",
    "    n = np.matmul(A.transpose(),F)\n",
    "    x = np.matmul(-Qx,n)\n",
    "    x = x.reshape(-1,1)\n",
    "    v = np.matmul(A,x) + F\n",
    "    sigma_o = m.sqrt(np.matmul(v.transpose(),v)/(nn-u))\n",
    "    sigma_lm = sigma_o*np.sqrt(np.diag(Qx))\n",
    "\n",
    "    \n",
    "    return N,Qx,n,x,v,sigma_o,sigma_lm "
   ]
  },
  {
   "cell_type": "code",
   "execution_count": 28,
   "metadata": {},
   "outputs": [],
   "source": [
    "N,Qx,n,x,v,sigma_o,sigma_lm = neuslovljena(k,A,F)"
   ]
  },
  {
   "cell_type": "code",
   "execution_count": 38,
   "metadata": {},
   "outputs": [
    {
     "data": {
      "text/plain": [
       "array([[-0.26871181],\n",
       "       [ 0.01242907],\n",
       "       [ 0.17156994],\n",
       "       [-0.30428919],\n",
       "       [ 0.41835169],\n",
       "       [ 0.01099256],\n",
       "       [ 0.57413343],\n",
       "       [-0.17572569],\n",
       "       [-0.62168056],\n",
       "       [-0.18153968],\n",
       "       [ 0.18160119],\n",
       "       [-0.15925794],\n",
       "       [ 0.35988294],\n",
       "       [-0.15997619],\n",
       "       [ 0.09316468],\n",
       "       [-0.38969444],\n",
       "       [-0.01264931],\n",
       "       [ 0.07049157],\n",
       "       [ 0.26963244],\n",
       "       [ 0.64977331],\n",
       "       [ 0.27491419],\n",
       "       [-0.13394494],\n",
       "       [-0.20680407],\n",
       "       [-0.47266319]])"
      ]
     },
     "execution_count": 38,
     "metadata": {},
     "output_type": "execute_result"
    }
   ],
   "source": [
    "v"
   ]
  },
  {
   "cell_type": "code",
   "execution_count": 29,
   "metadata": {},
   "outputs": [],
   "source": [
    "def uslovljena(visine,A,F,tacke):\n",
    "    nn,u = A.shape\n",
    "    N = np.matmul(A.transpose(),A)\n",
    "    if len(tacke)==2:\n",
    "        B = np.array([1,-tacke[0],-tacke[1]]).reshape(1,-1)\n",
    "        yidx = np.where(k[0,:]==tacke[0])\n",
    "        xidx = np.where(k[:,0]==tacke[1])\n",
    "        kx =-k[xidx[0][0],yidx[0][0]]\n",
    "    elif len(tacke)==4:\n",
    "        B = np.array([[1,-tacke[0],-tacke[1]],[1,-tacke[2],-tacke[3]]])\n",
    "        y1idx = np.where(k[0,:]==tacke[0])\n",
    "        x1idx = np.where(k[:,0]==tacke[1])\n",
    "        y2idx = np.where(k[0,:]==tacke[2])\n",
    "        x2idx = np.where(k[:,0]==tacke[3])\n",
    "        k1=-k[x1idx[0][0],y1idx[0][0]]\n",
    "        k2 =-k[x2idx[0][0],y2idx[0][0]]\n",
    "        kx = np.vstack((k1,k2))\n",
    "\n",
    "    N = np.hstack((np.vstack((N,B)),np.vstack((B.transpose(),np.zeros((B.shape[0],B.shape[0]))))))\n",
    "    Qx = np.linalg.inv(N)\n",
    "    n = np.matmul(A.transpose(),F)\n",
    "    n = np.vstack((n,kx))\n",
    "    x = np.matmul(-Qx,n)\n",
    "    x1 = x[:-kx.size]\n",
    "    x1 = x1.reshape(-1,1)\n",
    "    v = np.matmul(A,x1) + F\n",
    "    sigma_o = m.sqrt(np.matmul(v.transpose(),v)/(nn-u))\n",
    "    sigma_lm = sigma_o*np.sqrt(np.diag(Qx[:-kx.size,:-kx.size]))\n",
    "\n",
    "    return N,Qx,n,x,v,sigma_o,sigma_lm ,B"
   ]
  },
  {
   "cell_type": "code",
   "execution_count": 7,
   "metadata": {},
   "outputs": [],
   "source": [
    "def odstampajResenja(A,F,N,Qx,n,x,v,sigma_o,sigma_lm ,B):\n",
    "    print('Matrica A')\n",
    "    print(A)\n",
    "    print('Matrica F  ')\n",
    "    print(F)\n",
    "    print(' Matrica N')\n",
    "    print(N1)\n",
    "    print(' Matrica Qx ')\n",
    "    print(Qx1)\n",
    "    print(' Matrica n')\n",
    "    print(n1)\n",
    "    print(' Vektor x ')\n",
    "    print(x1)\n",
    "    print('Popravke v ')\n",
    "    print(v1)\n",
    "    print(' A posteriori standardna devijacija ')\n",
    "    print(sigma_o1)\n",
    "    print('Standardne devijacije nepoznatih parametara ')\n",
    "    print(sigma_lm1)\n",
    "    print(' Matrica B1 ')\n",
    "    print(B1)\n",
    "    print(' ')"
   ]
  },
  {
   "cell_type": "code",
   "execution_count": 11,
   "metadata": {},
   "outputs": [],
   "source": [
    "tacke1 = [60,120]\n"
   ]
  },
  {
   "cell_type": "markdown",
   "metadata": {},
   "source": [
    "N1,Qx1,n1,x1,v1,sigma_o1,sigma_lm1 ,B1 = uslovljena(k,A,F,tacke1)"
   ]
  },
  {
   "cell_type": "markdown",
   "metadata": {},
   "source": [
    "odstampajResenja(A,F,N1,Qx1,n1,x1,v1,sigma_o1,sigma_lm1 ,B1)"
   ]
  },
  {
   "cell_type": "code",
   "execution_count": 13,
   "metadata": {},
   "outputs": [],
   "source": [
    "tacke2 = [0,120,40,0]"
   ]
  },
  {
   "cell_type": "code",
   "execution_count": 14,
   "metadata": {},
   "outputs": [
    {
     "name": "stdout",
     "output_type": "stream",
     "text": [
      "Matrica A\n",
      "[[   1.   -0.   -0.]\n",
      " [   1.   -0.  -20.]\n",
      " [   1.   -0.  -40.]\n",
      " [   1.   -0.  -60.]\n",
      " [   1.   -0.  -80.]\n",
      " [   1.   -0. -100.]\n",
      " [   1.   -0. -120.]\n",
      " [   1.  -20.   -0.]\n",
      " [   1.  -20.  -20.]\n",
      " [   1.  -20.  -40.]\n",
      " [   1.  -20.  -60.]\n",
      " [   1.  -20.  -80.]\n",
      " [   1.  -20. -100.]\n",
      " [   1.  -20. -120.]\n",
      " [   1.  -40.   -0.]\n",
      " [   1.  -40.  -20.]\n",
      " [   1.  -40.  -40.]\n",
      " [   1.  -40.  -60.]\n",
      " [   1.  -40.  -80.]\n",
      " [   1.  -40. -100.]\n",
      " [   1.  -40. -120.]]\n",
      "Matrica F  \n",
      "[[-6.554 ]\n",
      " [-6.323 ]\n",
      " [-6.214 ]\n",
      " [-6.74  ]\n",
      " [-6.0675]\n",
      " [-6.525 ]\n",
      " [-6.012 ]\n",
      " [-7.071 ]\n",
      " [-6.681 ]\n",
      " [-6.368 ]\n",
      " [-6.759 ]\n",
      " [-6.29  ]\n",
      " [-6.86  ]\n",
      " [-6.657 ]\n",
      " [-6.626 ]\n",
      " [-6.593 ]\n",
      " [-6.444 ]\n",
      " [-6.114 ]\n",
      " [-6.539 ]\n",
      " [-6.998 ]\n",
      " [-7.121 ]]\n",
      " Matrica N\n"
     ]
    },
    {
     "ename": "NameError",
     "evalue": "name 'N1' is not defined",
     "output_type": "error",
     "traceback": [
      "\u001b[1;31m---------------------------------------------------------------------------\u001b[0m",
      "\u001b[1;31mNameError\u001b[0m                                 Traceback (most recent call last)",
      "\u001b[1;32m<ipython-input-14-704ff632ca0f>\u001b[0m in \u001b[0;36m<module>\u001b[1;34m\u001b[0m\n\u001b[0;32m      2\u001b[0m \u001b[0mN2\u001b[0m\u001b[1;33m,\u001b[0m\u001b[0mQx2\u001b[0m\u001b[1;33m,\u001b[0m\u001b[0mn2\u001b[0m\u001b[1;33m,\u001b[0m\u001b[0mx2\u001b[0m\u001b[1;33m,\u001b[0m\u001b[0mv2\u001b[0m\u001b[1;33m,\u001b[0m\u001b[0msigma_o2\u001b[0m\u001b[1;33m,\u001b[0m\u001b[0msigma_lm2\u001b[0m \u001b[1;33m,\u001b[0m\u001b[0mB2\u001b[0m \u001b[1;33m=\u001b[0m \u001b[0muslovljena\u001b[0m\u001b[1;33m(\u001b[0m\u001b[0mk\u001b[0m\u001b[1;33m,\u001b[0m\u001b[0mA\u001b[0m\u001b[1;33m,\u001b[0m\u001b[0mF\u001b[0m\u001b[1;33m,\u001b[0m\u001b[0mtacke2\u001b[0m\u001b[1;33m)\u001b[0m\u001b[1;33m\u001b[0m\u001b[1;33m\u001b[0m\u001b[0m\n\u001b[0;32m      3\u001b[0m \u001b[1;33m\u001b[0m\u001b[0m\n\u001b[1;32m----> 4\u001b[1;33m \u001b[0modstampajResenja\u001b[0m\u001b[1;33m(\u001b[0m\u001b[0mA\u001b[0m\u001b[1;33m,\u001b[0m\u001b[0mF\u001b[0m\u001b[1;33m,\u001b[0m\u001b[0mN2\u001b[0m\u001b[1;33m,\u001b[0m\u001b[0mQx2\u001b[0m\u001b[1;33m,\u001b[0m\u001b[0mn2\u001b[0m\u001b[1;33m,\u001b[0m\u001b[0mx2\u001b[0m\u001b[1;33m,\u001b[0m\u001b[0mv2\u001b[0m\u001b[1;33m,\u001b[0m\u001b[0msigma_o2\u001b[0m\u001b[1;33m,\u001b[0m\u001b[0msigma_lm2\u001b[0m \u001b[1;33m,\u001b[0m\u001b[0mB2\u001b[0m\u001b[1;33m)\u001b[0m\u001b[1;33m\u001b[0m\u001b[1;33m\u001b[0m\u001b[0m\n\u001b[0m",
      "\u001b[1;32m<ipython-input-10-062c92c73aac>\u001b[0m in \u001b[0;36modstampajResenja\u001b[1;34m(A, F, N, Qx, n, x, v, sigma_o, sigma_lm, B)\u001b[0m\n\u001b[0;32m      5\u001b[0m     \u001b[0mprint\u001b[0m\u001b[1;33m(\u001b[0m\u001b[0mF\u001b[0m\u001b[1;33m)\u001b[0m\u001b[1;33m\u001b[0m\u001b[1;33m\u001b[0m\u001b[0m\n\u001b[0;32m      6\u001b[0m     \u001b[0mprint\u001b[0m\u001b[1;33m(\u001b[0m\u001b[1;34m' Matrica N'\u001b[0m\u001b[1;33m)\u001b[0m\u001b[1;33m\u001b[0m\u001b[1;33m\u001b[0m\u001b[0m\n\u001b[1;32m----> 7\u001b[1;33m     \u001b[0mprint\u001b[0m\u001b[1;33m(\u001b[0m\u001b[0mN1\u001b[0m\u001b[1;33m)\u001b[0m\u001b[1;33m\u001b[0m\u001b[1;33m\u001b[0m\u001b[0m\n\u001b[0m\u001b[0;32m      8\u001b[0m     \u001b[0mprint\u001b[0m\u001b[1;33m(\u001b[0m\u001b[1;34m' Matrica Qx '\u001b[0m\u001b[1;33m)\u001b[0m\u001b[1;33m\u001b[0m\u001b[1;33m\u001b[0m\u001b[0m\n\u001b[0;32m      9\u001b[0m     \u001b[0mprint\u001b[0m\u001b[1;33m(\u001b[0m\u001b[0mQx1\u001b[0m\u001b[1;33m)\u001b[0m\u001b[1;33m\u001b[0m\u001b[1;33m\u001b[0m\u001b[0m\n",
      "\u001b[1;31mNameError\u001b[0m: name 'N1' is not defined"
     ]
    }
   ],
   "source": [
    "\n",
    "N2,Qx2,n2,x2,v2,sigma_o2,sigma_lm2 ,B2 = uslovljena(k,A,F,tacke2)\n",
    "\n",
    "odstampajResenja(A,F,N2,Qx2,n2,x2,v2,sigma_o2,sigma_lm2 ,B2)"
   ]
  },
  {
   "cell_type": "code",
   "execution_count": null,
   "metadata": {},
   "outputs": [],
   "source": [
    "len(tacke2)"
   ]
  },
  {
   "cell_type": "code",
   "execution_count": 15,
   "metadata": {},
   "outputs": [],
   "source": [
    "tacke = [0,120,40,0]\n",
    "\n",
    "nn,u = A.shape\n",
    "N = np.matmul(A.transpose(),A)\n",
    "if len(tacke)==2:\n",
    "    B = np.array([1,-tacke[0],-tacke[1]]).reshape(1,-1)\n",
    "    yidx = np.where(k[0,:]==tacke[0])\n",
    "    xidx = np.where(k[:,0]==tacke[1])\n",
    "    kx =-k[xidx[0][0],yidx[0][0]]\n",
    "elif len(tacke)==4:\n",
    "    B = np.array([[1,-tacke[0],-tacke[1]],[1,-tacke[2],-tacke[3]]])\n",
    "    y1idx = np.where(k[0,:]==tacke[0])\n",
    "    x1idx = np.where(k[:,0]==tacke[1])\n",
    "    y2idx = np.where(k[0,:]==tacke[2])\n",
    "    x2idx = np.where(k[:,0]==tacke[3])\n",
    "    k1=-k[x1idx[0][0],y1idx[0][0]]\n",
    "    k2 =-k[x2idx[0][0],y2idx[0][0]]\n",
    "    kx = np.vstack((k1,k2))\n",
    "\n",
    "kx[0][0] = -6.012\n",
    "kx[1][0] = -6.626\n",
    "N = np.hstack((np.vstack((N,B)),np.vstack((B.transpose(),np.zeros((B.shape[0],B.shape[0]))))))\n",
    "Qx = np.linalg.inv(N)\n",
    "n = np.matmul(A.transpose(),F)\n",
    "n = np.vstack((n,kx))\n",
    "x = np.matmul(-Qx,n)\n",
    "x1 = x[:-kx.size]\n",
    "x1 = x1.reshape(-1,1)\n",
    "v = np.matmul(A,x1) + F\n",
    "sigma_o = m.sqrt(np.matmul(v.transpose(),v)/(nn-u))\n",
    "sigma_lm = sigma_o*np.sqrt(np.diag(Qx[:-kx.size,:-kx.size]))"
   ]
  },
  {
   "cell_type": "code",
   "execution_count": 23,
   "metadata": {},
   "outputs": [
    {
     "data": {
      "text/plain": [
       "array([[-0.60993478],\n",
       "       [-0.36761232],\n",
       "       [-0.24728986],\n",
       "       [-0.76196739],\n",
       "       [-0.07814493],\n",
       "       [-0.52432246],\n",
       "       [-0.        ],\n",
       "       [-0.78867754],\n",
       "       [-0.78596739],\n",
       "       [-0.38464493],\n",
       "       [-0.06032246],\n",
       "       [-0.44      ],\n",
       "       [ 0.04032246],\n",
       "       [-0.51835507],\n",
       "       [-0.30403261],\n",
       "       [-0.82571014],\n",
       "       [ 0.        ],\n",
       "       [ 0.04432246],\n",
       "       [ 0.20464493],\n",
       "       [ 0.54596739],\n",
       "       [ 0.13228986],\n",
       "       [-0.31538768],\n",
       "       [-0.42706522],\n",
       "       [-0.73174275]])"
      ]
     },
     "execution_count": 23,
     "metadata": {},
     "output_type": "execute_result"
    }
   ],
   "source": [
    "v"
   ]
  },
  {
   "cell_type": "code",
   "execution_count": 16,
   "metadata": {},
   "outputs": [
    {
     "data": {
      "text/plain": [
       "array([[    24.,   -480.,  -1680.,      1.,      1.],\n",
       "       [  -480.,  16000.,  33600.,      0.,    -40.],\n",
       "       [ -1680.,  33600., 168000.,   -120.,      0.],\n",
       "       [     1.,      0.,   -120.,      0.,      0.],\n",
       "       [     1.,    -40.,      0.,      0.,      0.]])"
      ]
     },
     "execution_count": 16,
     "metadata": {},
     "output_type": "execute_result"
    }
   ],
   "source": [
    "N"
   ]
  },
  {
   "cell_type": "code",
   "execution_count": 21,
   "metadata": {},
   "outputs": [
    {
     "data": {
      "text/plain": [
       "array([ 0.13043478,  0.00008152,  0.00000906, -8.82608696, -6.73913043])"
      ]
     },
     "execution_count": 21,
     "metadata": {},
     "output_type": "execute_result"
    }
   ],
   "source": [
    "np.diag(Qx)"
   ]
  },
  {
   "cell_type": "code",
   "execution_count": 18,
   "metadata": {},
   "outputs": [
    {
     "data": {
      "text/plain": [
       "array([[ 5.94406522],\n",
       "       [-0.01704837],\n",
       "       [-0.00056612],\n",
       "       [ 5.01730435],\n",
       "       [ 2.18632609]])"
      ]
     },
     "execution_count": 18,
     "metadata": {},
     "output_type": "execute_result"
    }
   ],
   "source": [
    "x"
   ]
  },
  {
   "cell_type": "code",
   "execution_count": 19,
   "metadata": {},
   "outputs": [
    {
     "data": {
      "text/plain": [
       "array([0.18034046, 0.00450851, 0.00150284])"
      ]
     },
     "execution_count": 19,
     "metadata": {},
     "output_type": "execute_result"
    }
   ],
   "source": [
    "sigma_lm"
   ]
  },
  {
   "cell_type": "code",
   "execution_count": 20,
   "metadata": {},
   "outputs": [
    {
     "data": {
      "text/plain": [
       "0.49934011458574634"
      ]
     },
     "execution_count": 20,
     "metadata": {},
     "output_type": "execute_result"
    }
   ],
   "source": [
    "sigma_o"
   ]
  },
  {
   "cell_type": "code",
   "execution_count": 25,
   "metadata": {},
   "outputs": [
    {
     "data": {
      "text/plain": [
       "145.60219778561037"
      ]
     },
     "execution_count": 25,
     "metadata": {},
     "output_type": "execute_result"
    }
   ],
   "source": [
    "duz = m.sqrt(40**2+140**2)\n",
    "duz"
   ]
  },
  {
   "cell_type": "code",
   "execution_count": 28,
   "metadata": {},
   "outputs": [
    {
     "data": {
      "text/plain": [
       "6.705257246376818"
      ]
     },
     "execution_count": 28,
     "metadata": {},
     "output_type": "execute_result"
    }
   ],
   "source": [
    "-F[-1][0] +v[-1][0]"
   ]
  },
  {
   "cell_type": "code",
   "execution_count": 29,
   "metadata": {},
   "outputs": [
    {
     "data": {
      "text/plain": [
       "7.437"
      ]
     },
     "execution_count": 29,
     "metadata": {},
     "output_type": "execute_result"
    }
   ],
   "source": [
    "-F[-1][0]"
   ]
  },
  {
   "cell_type": "code",
   "execution_count": 31,
   "metadata": {},
   "outputs": [
    {
     "data": {
      "text/plain": [
       "-0.5226576558014314"
      ]
     },
     "execution_count": 31,
     "metadata": {},
     "output_type": "execute_result"
    }
   ],
   "source": [
    "((5.944-6.705)/145.602)*100"
   ]
  },
  {
   "cell_type": "code",
   "execution_count": null,
   "metadata": {},
   "outputs": [],
   "source": []
  }
 ],
 "metadata": {
  "kernelspec": {
   "display_name": "Python 3",
   "language": "python",
   "name": "python3"
  },
  "language_info": {
   "codemirror_mode": {
    "name": "ipython",
    "version": 3
   },
   "file_extension": ".py",
   "mimetype": "text/x-python",
   "name": "python",
   "nbconvert_exporter": "python",
   "pygments_lexer": "ipython3",
   "version": "3.7.3"
  }
 },
 "nbformat": 4,
 "nbformat_minor": 2
}
