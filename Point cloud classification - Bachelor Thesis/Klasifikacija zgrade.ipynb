{
 "cells": [
  {
   "cell_type": "markdown",
   "metadata": {},
   "source": [
    "## Importovanje bibliotke "
   ]
  },
  {
   "cell_type": "code",
   "execution_count": 1,
   "metadata": {},
   "outputs": [
    {
     "name": "stdout",
     "output_type": "stream",
     "text": [
      "Jupyter environment detected. Enabling Open3D WebVisualizer.\n",
      "[Open3D INFO] WebRTC GUI backend enabled.\n",
      "[Open3D INFO] WebRTCWindowSystem: HTTP handshake server disabled.\n"
     ]
    }
   ],
   "source": [
    "import open3d as o3d \n",
    "import laspy as lp \n",
    "import numpy as np \n",
    "import pandas as pd \n",
    "import matplotlib.pyplot as plt \n",
    "import tensorflow as tf \n",
    "import joblib\n",
    "\n",
    "\n",
    "from scipy import stats\n",
    "from sklearn.cluster import DBSCAN\n",
    "from sklearn.ensemble import RandomForestClassifier\n",
    "from sklearn.linear_model import SGDClassifier\n",
    "from sklearn.model_selection import train_test_split, GridSearchCV, RandomizedSearchCV,PredefinedSplit\n",
    "from sklearn.preprocessing import StandardScaler,MinMaxScaler\n",
    "from sklearn.compose import ColumnTransformer\n",
    "from sklearn.neighbors import NearestNeighbors\n",
    "from sklearn.utils import shuffle\n",
    "\n",
    "from tensorflow.keras.models import Sequential\n",
    "from tensorflow.keras.layers import Dense, Dropout,BatchNormalization\n",
    "from tensorflow.keras.regularizers import l2\n",
    "from tensorflow.keras.callbacks import EarlyStopping\n",
    "\n",
    "\n",
    "from sklearn.metrics import accuracy_score,confusion_matrix,silhouette_score,precision_score,recall_score,f1_score"
   ]
  },
  {
   "cell_type": "markdown",
   "metadata": {},
   "source": [
    "## Definisanje funkcija za preocesiranje podataka"
   ]
  },
  {
   "cell_type": "code",
   "execution_count": 2,
   "metadata": {},
   "outputs": [],
   "source": [
    "'''Funkcija na osonvu zscore vrednosti koji utklanja tacke bazirano na tome da li visina tacke se nalazi mnogo \n",
    "iznad ostalih  tacaka. Ideja je da funkcija otlkloni grube greske ali u zavisnoti od paramettra Z moze i da otkloni tacke\n",
    "koje su na visokom objektu (dom za asistente)'''\n",
    "\n",
    "def remove_outliners(points,zscore):\n",
    "    z = np.abs(stats.zscore(points['z']))\n",
    "    return points[z<zscore].copy()"
   ]
  },
  {
   "cell_type": "code",
   "execution_count": 3,
   "metadata": {},
   "outputs": [],
   "source": [
    "'''Funkcija splitvuje podatke na X matricu koja sadrzi vektore karakteristika koji ne ukljucuje X,Y koordinate, zato sto nam \n",
    "one nisu pogodne za samo treniranje a pogodone su nam za segmentaciju, stoga ovu funkciju pozivamo tek kada izvrsimo \n",
    "segmentaciju '''\n",
    "\n",
    "def splitovanje(podaci):\n",
    "    podaci_train = podaci.drop(['x','y'],axis=1).dropna()\n",
    "    X = podaci_train.drop('klase',axis=1)\n",
    "    y = podaci_train['klase'].copy()\n",
    "    return shuffle(X,y) \n",
    "\n"
   ]
  },
  {
   "cell_type": "code",
   "execution_count": 4,
   "metadata": {},
   "outputs": [],
   "source": [
    "\"\"\"Funkcija koja plotuje sortirane distance svake tacke do svog treceg komsije \"\"\"\n",
    "\n",
    "def kurvature(data,tacka = None):\n",
    "    points = data[['x','y','z']].copy()\n",
    "    min_samples = 2*len(points.columns)\n",
    "    neighbor = NearestNeighbors(n_neighbors = min_samples)\n",
    "    neighbor.fit(points)\n",
    "    distance, instance = neighbor.kneighbors(points)\n",
    "    distance = np.sort(distance, axis=0)\n",
    "    distances = distance[:,2]\n",
    "    tangente =  np.gradient(distances)\n",
    "    tangente_2=np.gradient(tangente)\n",
    "    srednja_tangenta = tangente.mean()\n",
    "    a = tangente[np.argmin(np.abs(tangente - srednja_tangenta))]\n",
    "    c = instance[np.argmin(np.abs(tangente-a))]\n",
    "    epsilon =(distances[c][0])\n",
    "    fig = plt.figure(figsize=(12, 8))\n",
    "    ax = fig.add_subplot(211)\n",
    "    ax.plot(distances)\n",
    "    ax.scatter (c,distances[c])\n",
    "    ax.scatter(c[0],epsilon,color = 'red')\n",
    "    ax = plt.subplot(212)\n",
    "    ax.plot(distances)\n",
    "    ax.scatter (c,distances[c])\n",
    "    ax.scatter(c[0],epsilon,color = 'red')\n",
    "    ax.axis([np.min(c)-2e5,np.max(c)+5e5,0,epsilon+5])\n",
    "    print(distances[c])\n",
    "    print('Uzeta vrednost za epsilon je:',epsilon)\n",
    "    plt.show()\n",
    "    \n",
    "    if tacka is not None:\n",
    "        plt.figure(figsize=(12, 4))\n",
    "        plt.plot(distances)\n",
    "        plt.scatter(tacka,distances[tacka],color = 'green')\n",
    "        plt.axis([tacka-2e5,tacka+5e5,0,distances[tacka]+5])\n",
    "        plt.show()\n",
    "        print('Vrednost odabrane tacke je:',distances[tacka])\n",
    "        return epsilon,min_samples,tacka\n",
    "    \n",
    "    return epsilon,min_samples\n",
    "    "
   ]
  },
  {
   "cell_type": "code",
   "execution_count": 5,
   "metadata": {},
   "outputs": [],
   "source": [
    "'''Funkcija grupneStatistike kao ulaz prima podatke koju za svaku instancu imaju grupu kojoj pripadaju. Zatim grupuiše podatke\n",
    "na osnovu te grupu i izračuna prosečnu visinu i itezitet kao i standardnu devijaciju za svaku tačku, zatim te izračunate \n",
    "vrednosti merge-uje sa originalnim podacima preko klastera kojim pripadaju i pošto nam sam podatak o grupi više ne treba \n",
    "uklolnima ga '''\n",
    "\n",
    "def grupneStatistike(podaci):\n",
    "    z_stat = podaci.groupby('grupa').z.agg(['mean','std'])\n",
    "    inten_stat = podaci.groupby('grupa').intensity.agg(['mean','std'])\n",
    "    first = pd.merge(podaci,z_stat,left_on = 'grupa',right_index = True)\n",
    "    return pd.merge(first,inten_stat,left_on ='grupa',right_index =True).drop('grupa',axis=1)\n",
    "\n",
    "\n",
    "'''Funkcija segmentacija vrši segmentaciju tačaka pomoću DBSCAN-a i svakoj tački dodeljuje segment kome pripada\n",
    "Kada je segmentacija završena funkcija takodje izbacuju vizualizaciju te naše segmentacije, i na kraju poziva prethodne \n",
    "dve funkcije (grupneStatistsike i splitovanje) i to funckija vraća'''\n",
    "\n",
    "def segmentacija(data,epsilon,min_samples):\n",
    "    points = data[['x','y','z']].copy()\n",
    "    colors = data[['red','green','blue']].copy()\n",
    "    \n",
    "    pcd = o3d.geometry.PointCloud()\n",
    "    pcd.points = o3d.utility.Vector3dVector(points.values)\n",
    "    dbscan = DBSCAN(eps= epsilon, min_samples= min_samples)# do ovih parametara sam dosao u drugom Notebook-u koristići motodu koju sam u wordu opisao\n",
    "    dbscan.fit(points)\n",
    "    labels = dbscan.labels_\n",
    "    max_labels = labels.max()\n",
    "    colors_ = plt.get_cmap('tab20')(labels/max_labels if max_labels > 0 else 1)\n",
    "    colors_[labels ==-1] = 0\n",
    "    pcd.colors = o3d.utility.Vector3dVector(colors_[:,:3])\n",
    "    o3d.visualization.draw_geometries([pcd])\n",
    "    data['grupa'] = labels.reshape(-1,1)\n",
    "    return splitovanje(grupneStatistike(data)).copy()"
   ]
  },
  {
   "cell_type": "code",
   "execution_count": 6,
   "metadata": {},
   "outputs": [],
   "source": [
    "\"\"\"Ideja funkcije redukcija_boja je da se odradi kvantizacija boja na osnovu KMeans- algoritma\"\"\"\n",
    "\n",
    "def redukcija_boja(kmeans,podaci):\n",
    "    colors = podaci[['red','green','blue']].copy()\n",
    "    boje_klasteri = kmeans.predict(colors)\n",
    "    podaci[['red','green','blue']] = kmeans.cluster_centers_[boje_klasteri]\n",
    "    return podaci"
   ]
  },
  {
   "cell_type": "code",
   "execution_count": 7,
   "metadata": {},
   "outputs": [],
   "source": [
    "\"\"\"Funkcija koja spaja prethodne funkcije u jednu\"\"\"\n",
    "\n",
    "def preprocess_data(data,zscore,epsilon,min_samples):\n",
    "    data1 = remove_outliners(data,zscore)\n",
    "    return segmentacija(data1,epsilon,min_samples)\n",
    "\n",
    "def preprocess_data_boje(data,kmeans,zscore,epsilon,min_samples):\n",
    "    data1 = remove_outliners(data,zscore)\n",
    "    data2 = redukcija_boja(kmeans,data1)\n",
    "    return segmentacija(data2,epsilon,min_samples)"
   ]
  },
  {
   "cell_type": "code",
   "execution_count": 8,
   "metadata": {},
   "outputs": [],
   "source": [
    "\"\"\"Funkciaj koja kao izlaz daje preciznost modela i matricu konfuzije nad trening i test podacima, kao i bitnost feature-a\n",
    "ukoliko je model RandomForest\"\"\"\n",
    "\n",
    "def izvestaj_statistike(y,y_pred,train = True):\n",
    "    if train is True:\n",
    "        print('Tacnost na trening podacima je:\\n',accuracy_score(y,y_pred),'\\n')\n",
    "        print('Matrica konfuzije za trening podatke:\\n')\n",
    "        trening_konfuzija=pd.DataFrame(confusion_matrix(y,y_pred),columns = klase,index = klase)\n",
    "        display(trening_konfuzija)\n",
    "        print('Preciznost nad trening podacima:',precision_score(y,y_pred))\n",
    "        print('Odziv nad trening podacima je:',recall_score(y,y_pred))\n",
    "        print('F1 vrednost nad trening podacima je:',f1_score(y,y_pred))\n",
    "        trening = trening_konfuzija.values\n",
    "        np.fill_diagonal(trening,0)\n",
    "        plt.imshow(trening,cmap = plt.cm.gist_heat_r)\n",
    "        plt.show()\n",
    "    if train is False:\n",
    "        print('Tacnost na test podacima je:\\n',accuracy_score(y,y_pred),'\\n')\n",
    "        print('Matrica konfuzije za test podatke:\\n')\n",
    "        testing_konfuzija=pd.DataFrame(confusion_matrix(y,y_pred),columns = klase,index = klase)\n",
    "        display(testing_konfuzija)\n",
    "        print('Preciznost nad testing podacima:',precision_score(y,y_pred))\n",
    "        print('Odziv nad testing podacima je:',recall_score(y,y_pred))\n",
    "        print('F1 vrednost nad testing podacima je:',f1_score(y,y_pred))\n",
    "        testing = testing_konfuzija.values\n",
    "        np.fill_diagonal(testing,0)\n",
    "        plt.imshow(testing,cmap = plt.cm.gist_heat_r)\n",
    "        plt.show()\n",
    "        \n",
    "\n",
    "def izvestaj(model,X_train,X_test,y_train,y_test,klase=None,columns = None):\n",
    "    \n",
    "    if str(type(model)) ==\"<class 'tensorflow.python.keras.engine.sequential.Sequential'>\":\n",
    "\n",
    "\n",
    "        if len(np.unique(y_train))!=2:\n",
    "            y_predict = model.predict(X_train).argmax(axis=1)\n",
    "            izvestaj_statistike(y_train,y_predict)\n",
    "\n",
    "            y_predict_test = model.predict(X_test).argmax(axis=1)\n",
    "            izvestaj_statistike(y_test,y_predict_test,train= False)\n",
    "        if len(np.unique(y_train))==2:\n",
    "            y_predict = model.predict(X_train)>0.5\n",
    "            izvestaj_statistike(y_train,y_predict)\n",
    "\n",
    "            y_predict_test = model.predict(X_test)>0.5\n",
    "            izvestaj_statistike(y_test,y_predict_test,train= False)\n",
    "    else:\n",
    "        \n",
    "            y_predict = model.predict(X_train)\n",
    "            izvestaj_statistike(y_train,y_predict)\n",
    "            \n",
    "            \n",
    "\n",
    "            y_predict_test = model.predict(X_test)\n",
    "            izvestaj_statistike(y_test,y_predict_test,train= False)\n",
    "\n",
    "        \n",
    "        \n",
    "    try:   \n",
    "        if str(type(model))==\"<class 'sklearn.ensemble._forest.RandomForestClassifier'>\":\n",
    "            importance = pd.Series(data = model.feature_importances_,index = columns)\n",
    "            importance.plot(kind = 'bar')\n",
    "            plt.show()\n",
    "    except:\n",
    "        print()\n",
    "    try:\n",
    "        if str(type(model.best_estimator_))==\"<class 'sklearn.ensemble._forest.RandomForestClassifier'>\":\n",
    "            importance = pd.Series(data = model.best_estimator_.feature_importances_,index = columns)\n",
    "            importance.plot(kind = 'bar')\n",
    "            plt.show()\n",
    "    except:\n",
    "        print()"
   ]
  },
  {
   "cell_type": "code",
   "execution_count": 9,
   "metadata": {},
   "outputs": [],
   "source": [
    "def vizualizacija(X,y,podaci):\n",
    "    koordinate =podaci.loc[X.index,['x','y','z']]\n",
    "    broj_klase=len(np.unique(y))\n",
    "    if broj_klase==2:\n",
    "        colors = plt.get_cmap('seismic_r')(y/1)\n",
    "    else:\n",
    "        colors = plt.get_cmap('tab10')(y)\n",
    "        \n",
    "    pcd = o3d.geometry.PointCloud()\n",
    "    pcd.points = o3d.utility.Vector3dVector(koordinate.values)\n",
    "    pcd.colors = o3d.utility.Vector3dVector(colors[:,:3])\n",
    "\n",
    "    o3d.visualization.draw_geometries([pcd])"
   ]
  },
  {
   "cell_type": "code",
   "execution_count": 10,
   "metadata": {},
   "outputs": [],
   "source": [
    "def vizualizacija_proba(X,y,podaci):\n",
    "    koordinate =podaci.loc[X.index,['x','y','z']]\n",
    "    broj_klase=len(np.unique(y))\n",
    "    if broj_klase==2:\n",
    "        colors = plt.get_cmap('seismic_r')(y/1)\n",
    "    else:\n",
    "        colors = y.map({0:[0.97647059, 0.65490196, 0.24313725],1:[0.15294118, 0.70196078, 0.4627451 ]\n",
    "                        ,2:[0.74901961, 0.12941176, 0.18431373],3:[0., 0.43529412, 0.23529412]})\n",
    "        \n",
    "    pcd = o3d.geometry.PointCloud()\n",
    "    pcd.points = o3d.utility.Vector3dVector(koordinate.values)\n",
    "    pcd.colors = o3d.utility.Vector3dVector(colors)\n",
    "\n",
    "    o3d.visualization.draw_geometries([pcd])"
   ]
  },
  {
   "cell_type": "code",
   "execution_count": 11,
   "metadata": {},
   "outputs": [],
   "source": [
    "def load_index(path):\n",
    "    return pd.read_csv(path).values.reshape(-1,)"
   ]
  },
  {
   "cell_type": "markdown",
   "metadata": {},
   "source": [
    "### Ucitavanje KMeans modela koji radi kvantizaciju boja"
   ]
  },
  {
   "cell_type": "code",
   "execution_count": 12,
   "metadata": {},
   "outputs": [],
   "source": [
    "kmeans = joblib.load(r\"C:\\Users\\ilija\\Fax\\Diplomski\\Seminarski lasersko Avgust\\Modeli\\redukcijaBoja\")"
   ]
  },
  {
   "cell_type": "markdown",
   "metadata": {},
   "source": [
    "## Multiklase klasfikacija Tlo,Sikara- Zgrade-Vegetacija-Put,Parking"
   ]
  },
  {
   "cell_type": "code",
   "execution_count": 13,
   "metadata": {},
   "outputs": [],
   "source": [
    "data_valid = pd.read_csv(r\"C:\\Users\\ilija\\Fax\\Diplomski\\Seminarski Septembar\\Novi podaci\\Zgrade_gornji.csv\")\n",
    "data_train = pd.read_csv(r\"C:\\Users\\ilija\\Fax\\Diplomski\\Seminarski Septembar\\Novi podaci\\Zgrade_donji.csv\")\n"
   ]
  },
  {
   "cell_type": "code",
   "execution_count": 14,
   "metadata": {},
   "outputs": [],
   "source": [
    "data_train = data_train[::2].copy()\n",
    "data_valid = data_valid[::2].copy()"
   ]
  },
  {
   "cell_type": "code",
   "execution_count": 15,
   "metadata": {},
   "outputs": [],
   "source": [
    "klase = ['Zgrade','Nezgrade']\n",
    "broj_klasa = len(klase)"
   ]
  },
  {
   "cell_type": "code",
   "execution_count": null,
   "metadata": {},
   "outputs": [],
   "source": [
    "epsilon,min_samples = kurvature(data_train)"
   ]
  },
  {
   "cell_type": "code",
   "execution_count": 16,
   "metadata": {},
   "outputs": [],
   "source": [
    "epsilon = 0.58\n",
    "min_samples = 8"
   ]
  },
  {
   "cell_type": "code",
   "execution_count": 17,
   "metadata": {},
   "outputs": [],
   "source": [
    "X,y = preprocess_data(data_train,3.5,epsilon,min_samples)"
   ]
  },
  {
   "cell_type": "code",
   "execution_count": 18,
   "metadata": {},
   "outputs": [
    {
     "name": "stdout",
     "output_type": "stream",
     "text": [
      "[Open3D WARNING] GLFW Error: WGL: Failed to make context current: The handle is invalid. \n",
      "[Open3D WARNING] GLFW Error: WGL: Failed to make context current: The requested transformation operation is not supported. \n"
     ]
    }
   ],
   "source": [
    "vizualizacija(X,y,data_train)"
   ]
  },
  {
   "cell_type": "code",
   "execution_count": 19,
   "metadata": {},
   "outputs": [],
   "source": [
    "transformer = ColumnTransformer([\n",
    "    ('scaler',StandardScaler(),['z','intensity', 'mean_x', 'std_x', 'mean_y','std_y']),\n",
    "    ('minMax',MinMaxScaler(),['red', 'green', 'blue'])\n",
    "],remainder = 'passthrough')"
   ]
  },
  {
   "cell_type": "code",
   "execution_count": 23,
   "metadata": {},
   "outputs": [],
   "source": [
    "X_scaled = transformer.fit_transform(X)\n",
    "X_scaled_df = pd.DataFrame(X_scaled,columns = X.columns,index= X.index)"
   ]
  },
  {
   "cell_type": "code",
   "execution_count": 69,
   "metadata": {},
   "outputs": [
    {
     "name": "stdout",
     "output_type": "stream",
     "text": [
      "[1.39405882 1.39405882 1.2292274  1.05479856 1.05494076 1.05489336]\n",
      "Uzeta vrednost za epsilon je: 1.3940588223477308\n"
     ]
    },
    {
     "data": {
      "image/png": "[encoded data removed]",
      "text/plain": [
       "<Figure size 864x576 with 2 Axes>"
      ]
     },
     "metadata": {
      "needs_background": "light"
     },
     "output_type": "display_data"
    }
   ],
   "source": [
    "epsilon_valid,min_samples_valid = kurvature(data_valid)"
   ]
  },
  {
   "cell_type": "code",
   "execution_count": 20,
   "metadata": {},
   "outputs": [],
   "source": [
    "epsilon_valid = 0.58\n",
    "min_samples_valid = 6"
   ]
  },
  {
   "cell_type": "code",
   "execution_count": 21,
   "metadata": {},
   "outputs": [],
   "source": [
    "X_valid,y_valid = preprocess_data(data_valid,3.5,epsilon_valid,min_samples_valid)"
   ]
  },
  {
   "cell_type": "code",
   "execution_count": 24,
   "metadata": {},
   "outputs": [],
   "source": [
    "X_valid_scaled = transformer.transform(X_valid)\n",
    "X_valid_scaled_df = pd.DataFrame(X_valid_scaled,columns = X_valid.columns,index = X_valid.index)"
   ]
  },
  {
   "cell_type": "code",
   "execution_count": 25,
   "metadata": {},
   "outputs": [],
   "source": [
    "X_train = pd.concat([X_scaled_df,X_valid_scaled_df])\n",
    "y_train = pd.concat([y,y_valid])"
   ]
  },
  {
   "cell_type": "markdown",
   "metadata": {},
   "source": [
    "## Klasifikacija pomocu stohastickog gradijentnog pada"
   ]
  },
  {
   "cell_type": "code",
   "execution_count": 29,
   "metadata": {},
   "outputs": [
    {
     "data": {
      "text/plain": [
       "Int64Index([ 8026472,  4691406,  7614502,  7548400, 12018746,  6642620,\n",
       "             8131288,   562876, 11155174, 10215802,\n",
       "            ...\n",
       "            10417106,   522236,  7628358,  4526760,  5606388, 13538486,\n",
       "             5251836,  3805474,    88098,   556610],\n",
       "           dtype='int64', length=13493702)"
      ]
     },
     "execution_count": 29,
     "metadata": {},
     "output_type": "execute_result"
    }
   ],
   "source": [
    "X_train.index"
   ]
  },
  {
   "cell_type": "code",
   "execution_count": 30,
   "metadata": {},
   "outputs": [],
   "source": [
    "split_index = np.full(len(X_train),-1)\n",
    "split_index[len(X):]=0"
   ]
  },
  {
   "cell_type": "code",
   "execution_count": 31,
   "metadata": {},
   "outputs": [],
   "source": [
    "fold = np.array(split_index)"
   ]
  },
  {
   "cell_type": "code",
   "execution_count": 32,
   "metadata": {},
   "outputs": [
    {
     "data": {
      "text/plain": [
       "array([-1, -1, -1, ...,  0,  0,  0])"
      ]
     },
     "execution_count": 32,
     "metadata": {},
     "output_type": "execute_result"
    }
   ],
   "source": [
    "fold"
   ]
  },
  {
   "cell_type": "code",
   "execution_count": 33,
   "metadata": {},
   "outputs": [
    {
     "data": {
      "text/plain": [
       "0.6191708555218235"
      ]
     },
     "execution_count": 33,
     "metadata": {},
     "output_type": "execute_result"
    }
   ],
   "source": [
    "(7638774)/12337102"
   ]
  },
  {
   "cell_type": "code",
   "execution_count": 34,
   "metadata": {},
   "outputs": [
    {
     "data": {
      "text/plain": [
       "-0.4842476882919157"
      ]
     },
     "execution_count": 34,
     "metadata": {},
     "output_type": "execute_result"
    }
   ],
   "source": [
    "np.mean(fold)"
   ]
  },
  {
   "cell_type": "code",
   "execution_count": 35,
   "metadata": {},
   "outputs": [],
   "source": [
    "pds = PredefinedSplit(test_fold = fold)"
   ]
  },
  {
   "cell_type": "code",
   "execution_count": 36,
   "metadata": {},
   "outputs": [],
   "source": [
    "clf = SGDClassifier( class_weight='balanced', penalty='elasticnet', random_state=42)\n",
    "param_dist = {'l1_ratio': stats.uniform(0, 1),\n",
    "              'alpha': stats.loguniform(1e-4, 1e0)}\n",
    "\n",
    "n_iter = 20\n",
    "rand_search = RandomizedSearchCV(clf,param_dist,n_iter=n_iter,n_jobs = -1,cv=pds)"
   ]
  },
  {
   "cell_type": "code",
   "execution_count": 37,
   "metadata": {},
   "outputs": [
    {
     "data": {
      "text/plain": [
       "RandomizedSearchCV(cv=PredefinedSplit(test_fold=array([-1, -1, ...,  0,  0])),\n",
       "                   estimator=SGDClassifier(class_weight='balanced',\n",
       "                                           penalty='elasticnet',\n",
       "                                           random_state=42),\n",
       "                   n_iter=20, n_jobs=-1,\n",
       "                   param_distributions={'alpha': <scipy.stats._distn_infrastructure.rv_frozen object at 0x00000274EBC85B50>,\n",
       "                                        'l1_ratio': <scipy.stats._distn_infrastructure.rv_frozen object at 0x00000274EBC85820>})"
      ]
     },
     "execution_count": 37,
     "metadata": {},
     "output_type": "execute_result"
    }
   ],
   "source": [
    "rand_search.fit(X_train,y_train)"
   ]
  },
  {
   "cell_type": "code",
   "execution_count": 38,
   "metadata": {},
   "outputs": [
    {
     "data": {
      "text/plain": [
       "0.9483576955674171"
      ]
     },
     "execution_count": 38,
     "metadata": {},
     "output_type": "execute_result"
    }
   ],
   "source": [
    "rand_search.score(X_scaled,y)"
   ]
  },
  {
   "cell_type": "code",
   "execution_count": 39,
   "metadata": {},
   "outputs": [
    {
     "data": {
      "text/plain": [
       "SGDClassifier(alpha=0.00014137381792567476, class_weight='balanced',\n",
       "              l1_ratio=0.8008093735509733, penalty='elasticnet',\n",
       "              random_state=42)"
      ]
     },
     "execution_count": 39,
     "metadata": {},
     "output_type": "execute_result"
    }
   ],
   "source": [
    "rand_search.best_estimator_"
   ]
  },
  {
   "cell_type": "code",
   "execution_count": 40,
   "metadata": {},
   "outputs": [
    {
     "data": {
      "text/plain": [
       "array([[-0.7112917 , -0.3913756 , -0.88850684,  0.09333214, -1.12350097,\n",
       "        -0.90875357, -2.92075958, 10.72827095, -9.10786009]])"
      ]
     },
     "execution_count": 40,
     "metadata": {},
     "output_type": "execute_result"
    }
   ],
   "source": [
    "rand_search.best_estimator_.coef_"
   ]
  },
  {
   "cell_type": "code",
   "execution_count": 41,
   "metadata": {},
   "outputs": [
    {
     "data": {
      "text/html": [
       "<div>\n",
       "<style scoped>\n",
       "    .dataframe tbody tr th:only-of-type {\n",
       "        vertical-align: middle;\n",
       "    }\n",
       "\n",
       "    .dataframe tbody tr th {\n",
       "        vertical-align: top;\n",
       "    }\n",
       "\n",
       "    .dataframe thead th {\n",
       "        text-align: right;\n",
       "    }\n",
       "</style>\n",
       "<table border=\"1\" class=\"dataframe\">\n",
       "  <thead>\n",
       "    <tr style=\"text-align: right;\">\n",
       "      <th></th>\n",
       "      <th>z</th>\n",
       "      <th>red</th>\n",
       "      <th>green</th>\n",
       "      <th>blue</th>\n",
       "      <th>intensity</th>\n",
       "      <th>mean_x</th>\n",
       "      <th>std_x</th>\n",
       "      <th>mean_y</th>\n",
       "      <th>std_y</th>\n",
       "    </tr>\n",
       "  </thead>\n",
       "  <tbody>\n",
       "    <tr>\n",
       "      <th>Zgrade</th>\n",
       "      <td>-0.711292</td>\n",
       "      <td>-0.391376</td>\n",
       "      <td>-0.888507</td>\n",
       "      <td>0.093332</td>\n",
       "      <td>-1.123501</td>\n",
       "      <td>-0.908754</td>\n",
       "      <td>-2.92076</td>\n",
       "      <td>10.728271</td>\n",
       "      <td>-9.10786</td>\n",
       "    </tr>\n",
       "  </tbody>\n",
       "</table>\n",
       "</div>"
      ],
      "text/plain": [
       "               z       red     green      blue  intensity    mean_x    std_x  \\\n",
       "Zgrade -0.711292 -0.391376 -0.888507  0.093332  -1.123501 -0.908754 -2.92076   \n",
       "\n",
       "           mean_y    std_y  \n",
       "Zgrade  10.728271 -9.10786  "
      ]
     },
     "execution_count": 41,
     "metadata": {},
     "output_type": "execute_result"
    }
   ],
   "source": [
    "pd.DataFrame(rand_search.best_estimator_.coef_,columns = X.columns,index = ['Zgrade'])"
   ]
  },
  {
   "cell_type": "code",
   "execution_count": 42,
   "metadata": {},
   "outputs": [],
   "source": [
    "data_test = pd.read_csv(r\"C:\\Users\\ilija\\Fax\\Diplomski\\Seminarski Septembar\\Novi podaci\\zgrade_novi.csv\")"
   ]
  },
  {
   "cell_type": "code",
   "execution_count": 43,
   "metadata": {},
   "outputs": [
    {
     "data": {
      "text/html": [
       "<div>\n",
       "<style scoped>\n",
       "    .dataframe tbody tr th:only-of-type {\n",
       "        vertical-align: middle;\n",
       "    }\n",
       "\n",
       "    .dataframe tbody tr th {\n",
       "        vertical-align: top;\n",
       "    }\n",
       "\n",
       "    .dataframe thead th {\n",
       "        text-align: right;\n",
       "    }\n",
       "</style>\n",
       "<table border=\"1\" class=\"dataframe\">\n",
       "  <thead>\n",
       "    <tr style=\"text-align: right;\">\n",
       "      <th></th>\n",
       "      <th>x</th>\n",
       "      <th>y</th>\n",
       "      <th>z</th>\n",
       "      <th>red</th>\n",
       "      <th>green</th>\n",
       "      <th>blue</th>\n",
       "      <th>intensity</th>\n",
       "      <th>klase</th>\n",
       "    </tr>\n",
       "  </thead>\n",
       "  <tbody>\n",
       "    <tr>\n",
       "      <th>0</th>\n",
       "      <td>409137.06</td>\n",
       "      <td>5010684.11</td>\n",
       "      <td>82.33</td>\n",
       "      <td>13568.0</td>\n",
       "      <td>19200.0</td>\n",
       "      <td>23552.0</td>\n",
       "      <td>260.0</td>\n",
       "      <td>0</td>\n",
       "    </tr>\n",
       "    <tr>\n",
       "      <th>1</th>\n",
       "      <td>409137.20</td>\n",
       "      <td>5010683.70</td>\n",
       "      <td>82.34</td>\n",
       "      <td>13568.0</td>\n",
       "      <td>19968.0</td>\n",
       "      <td>23552.0</td>\n",
       "      <td>185.0</td>\n",
       "      <td>0</td>\n",
       "    </tr>\n",
       "    <tr>\n",
       "      <th>2</th>\n",
       "      <td>409136.87</td>\n",
       "      <td>5010683.74</td>\n",
       "      <td>82.32</td>\n",
       "      <td>14848.0</td>\n",
       "      <td>20736.0</td>\n",
       "      <td>24576.0</td>\n",
       "      <td>947.0</td>\n",
       "      <td>0</td>\n",
       "    </tr>\n",
       "    <tr>\n",
       "      <th>3</th>\n",
       "      <td>409136.54</td>\n",
       "      <td>5010683.79</td>\n",
       "      <td>82.32</td>\n",
       "      <td>16384.0</td>\n",
       "      <td>21760.0</td>\n",
       "      <td>26112.0</td>\n",
       "      <td>306.0</td>\n",
       "      <td>0</td>\n",
       "    </tr>\n",
       "    <tr>\n",
       "      <th>4</th>\n",
       "      <td>409136.24</td>\n",
       "      <td>5010683.83</td>\n",
       "      <td>82.28</td>\n",
       "      <td>15360.0</td>\n",
       "      <td>20480.0</td>\n",
       "      <td>24576.0</td>\n",
       "      <td>8.0</td>\n",
       "      <td>0</td>\n",
       "    </tr>\n",
       "    <tr>\n",
       "      <th>...</th>\n",
       "      <td>...</td>\n",
       "      <td>...</td>\n",
       "      <td>...</td>\n",
       "      <td>...</td>\n",
       "      <td>...</td>\n",
       "      <td>...</td>\n",
       "      <td>...</td>\n",
       "      <td>...</td>\n",
       "    </tr>\n",
       "    <tr>\n",
       "      <th>11738479</th>\n",
       "      <td>409281.67</td>\n",
       "      <td>5010073.73</td>\n",
       "      <td>76.47</td>\n",
       "      <td>41472.0</td>\n",
       "      <td>41472.0</td>\n",
       "      <td>42752.0</td>\n",
       "      <td>49.0</td>\n",
       "      <td>1</td>\n",
       "    </tr>\n",
       "    <tr>\n",
       "      <th>11738480</th>\n",
       "      <td>409281.00</td>\n",
       "      <td>5010072.27</td>\n",
       "      <td>76.45</td>\n",
       "      <td>40192.0</td>\n",
       "      <td>39680.0</td>\n",
       "      <td>40704.0</td>\n",
       "      <td>100.0</td>\n",
       "      <td>1</td>\n",
       "    </tr>\n",
       "    <tr>\n",
       "      <th>11738481</th>\n",
       "      <td>409280.98</td>\n",
       "      <td>5010072.66</td>\n",
       "      <td>76.45</td>\n",
       "      <td>38656.0</td>\n",
       "      <td>38656.0</td>\n",
       "      <td>39424.0</td>\n",
       "      <td>74.0</td>\n",
       "      <td>1</td>\n",
       "    </tr>\n",
       "    <tr>\n",
       "      <th>11738482</th>\n",
       "      <td>409280.95</td>\n",
       "      <td>5010073.08</td>\n",
       "      <td>76.46</td>\n",
       "      <td>35328.0</td>\n",
       "      <td>36096.0</td>\n",
       "      <td>38144.0</td>\n",
       "      <td>65.0</td>\n",
       "      <td>1</td>\n",
       "    </tr>\n",
       "    <tr>\n",
       "      <th>11738483</th>\n",
       "      <td>409280.93</td>\n",
       "      <td>5010073.47</td>\n",
       "      <td>76.46</td>\n",
       "      <td>36864.0</td>\n",
       "      <td>38144.0</td>\n",
       "      <td>40192.0</td>\n",
       "      <td>51.0</td>\n",
       "      <td>1</td>\n",
       "    </tr>\n",
       "  </tbody>\n",
       "</table>\n",
       "<p>11738484 rows × 8 columns</p>\n",
       "</div>"
      ],
      "text/plain": [
       "                  x           y      z      red    green     blue  intensity  \\\n",
       "0         409137.06  5010684.11  82.33  13568.0  19200.0  23552.0      260.0   \n",
       "1         409137.20  5010683.70  82.34  13568.0  19968.0  23552.0      185.0   \n",
       "2         409136.87  5010683.74  82.32  14848.0  20736.0  24576.0      947.0   \n",
       "3         409136.54  5010683.79  82.32  16384.0  21760.0  26112.0      306.0   \n",
       "4         409136.24  5010683.83  82.28  15360.0  20480.0  24576.0        8.0   \n",
       "...             ...         ...    ...      ...      ...      ...        ...   \n",
       "11738479  409281.67  5010073.73  76.47  41472.0  41472.0  42752.0       49.0   \n",
       "11738480  409281.00  5010072.27  76.45  40192.0  39680.0  40704.0      100.0   \n",
       "11738481  409280.98  5010072.66  76.45  38656.0  38656.0  39424.0       74.0   \n",
       "11738482  409280.95  5010073.08  76.46  35328.0  36096.0  38144.0       65.0   \n",
       "11738483  409280.93  5010073.47  76.46  36864.0  38144.0  40192.0       51.0   \n",
       "\n",
       "          klase  \n",
       "0             0  \n",
       "1             0  \n",
       "2             0  \n",
       "3             0  \n",
       "4             0  \n",
       "...         ...  \n",
       "11738479      1  \n",
       "11738480      1  \n",
       "11738481      1  \n",
       "11738482      1  \n",
       "11738483      1  \n",
       "\n",
       "[11738484 rows x 8 columns]"
      ]
     },
     "execution_count": 43,
     "metadata": {},
     "output_type": "execute_result"
    }
   ],
   "source": [
    "data_test"
   ]
  },
  {
   "cell_type": "code",
   "execution_count": 59,
   "metadata": {},
   "outputs": [
    {
     "name": "stdout",
     "output_type": "stream",
     "text": [
      "[1.36832014 1.36707717 1.23032516 1.37237021 1.36707717 1.36835668]\n",
      "Uzeta vrednost za epsilon je: 1.3683201379911283\n"
     ]
    },
    {
     "data": {
      "image/png": "[encoded data removed]",
      "text/plain": [
       "<Figure size 864x576 with 2 Axes>"
      ]
     },
     "metadata": {
      "needs_background": "light"
     },
     "output_type": "display_data"
    }
   ],
   "source": [
    "epsilon_test, min_samples = kurvature(data_test)"
   ]
  },
  {
   "cell_type": "code",
   "execution_count": 44,
   "metadata": {},
   "outputs": [],
   "source": [
    "epsilon_test = 0.59\n",
    "min_samples = 6"
   ]
  },
  {
   "cell_type": "code",
   "execution_count": 45,
   "metadata": {},
   "outputs": [],
   "source": [
    "X_test,y_test = preprocess_data(data_test,3.5,epsilon_test,min_samples)"
   ]
  },
  {
   "cell_type": "code",
   "execution_count": 46,
   "metadata": {},
   "outputs": [],
   "source": [
    "X_test_scaled = transformer.transform(X_test)"
   ]
  },
  {
   "cell_type": "code",
   "execution_count": 45,
   "metadata": {},
   "outputs": [],
   "source": [
    "vizualizacija(X_test,y_test,data_test)"
   ]
  },
  {
   "cell_type": "markdown",
   "metadata": {},
   "source": [
    "### Prikaz rezultata"
   ]
  },
  {
   "cell_type": "code",
   "execution_count": 128,
   "metadata": {},
   "outputs": [
    {
     "name": "stdout",
     "output_type": "stream",
     "text": [
      "Tacnost na trening podacima je:\n",
      " 0.9483576955674171 \n",
      "\n",
      "Matrica konfuzije za trening podatke:\n",
      "\n"
     ]
    },
    {
     "data": {
      "text/html": [
       "<div>\n",
       "<style scoped>\n",
       "    .dataframe tbody tr th:only-of-type {\n",
       "        vertical-align: middle;\n",
       "    }\n",
       "\n",
       "    .dataframe tbody tr th {\n",
       "        vertical-align: top;\n",
       "    }\n",
       "\n",
       "    .dataframe thead th {\n",
       "        text-align: right;\n",
       "    }\n",
       "</style>\n",
       "<table border=\"1\" class=\"dataframe\">\n",
       "  <thead>\n",
       "    <tr style=\"text-align: right;\">\n",
       "      <th></th>\n",
       "      <th>Zgrade</th>\n",
       "      <th>Nezgrade</th>\n",
       "    </tr>\n",
       "  </thead>\n",
       "  <tbody>\n",
       "    <tr>\n",
       "      <th>Zgrade</th>\n",
       "      <td>1089285</td>\n",
       "      <td>179319</td>\n",
       "    </tr>\n",
       "    <tr>\n",
       "      <th>Nezgrade</th>\n",
       "      <td>158127</td>\n",
       "      <td>5107563</td>\n",
       "    </tr>\n",
       "  </tbody>\n",
       "</table>\n",
       "</div>"
      ],
      "text/plain": [
       "           Zgrade  Nezgrade\n",
       "Zgrade    1089285    179319\n",
       "Nezgrade   158127   5107563"
      ]
     },
     "metadata": {},
     "output_type": "display_data"
    },
    {
     "name": "stdout",
     "output_type": "stream",
     "text": [
      "Preciznost nad trening podacima: 0.9660822768505142\n",
      "Odziv nad trening podacima je: 0.9699703172803564\n",
      "F1 vrednost nad trening podacima je: 0.968022393024184\n"
     ]
    },
    {
     "data": {
      "image/png": "[encoded data removed]",
      "text/plain": [
       "<Figure size 432x288 with 1 Axes>"
      ]
     },
     "metadata": {
      "needs_background": "light"
     },
     "output_type": "display_data"
    },
    {
     "name": "stdout",
     "output_type": "stream",
     "text": [
      "Tacnost na test podacima je:\n",
      " 0.9175779031779715 \n",
      "\n",
      "Matrica konfuzije za test podatke:\n",
      "\n"
     ]
    },
    {
     "data": {
      "text/html": [
       "<div>\n",
       "<style scoped>\n",
       "    .dataframe tbody tr th:only-of-type {\n",
       "        vertical-align: middle;\n",
       "    }\n",
       "\n",
       "    .dataframe tbody tr th {\n",
       "        vertical-align: top;\n",
       "    }\n",
       "\n",
       "    .dataframe thead th {\n",
       "        text-align: right;\n",
       "    }\n",
       "</style>\n",
       "<table border=\"1\" class=\"dataframe\">\n",
       "  <thead>\n",
       "    <tr style=\"text-align: right;\">\n",
       "      <th></th>\n",
       "      <th>Zgrade</th>\n",
       "      <th>Nezgrade</th>\n",
       "    </tr>\n",
       "  </thead>\n",
       "  <tbody>\n",
       "    <tr>\n",
       "      <th>Zgrade</th>\n",
       "      <td>1720310</td>\n",
       "      <td>249627</td>\n",
       "    </tr>\n",
       "    <tr>\n",
       "      <th>Nezgrade</th>\n",
       "      <td>323982</td>\n",
       "      <td>4665489</td>\n",
       "    </tr>\n",
       "  </tbody>\n",
       "</table>\n",
       "</div>"
      ],
      "text/plain": [
       "           Zgrade  Nezgrade\n",
       "Zgrade    1720310    249627\n",
       "Nezgrade   323982   4665489"
      ]
     },
     "metadata": {},
     "output_type": "display_data"
    },
    {
     "name": "stdout",
     "output_type": "stream",
     "text": [
      "Preciznost nad testing podacima: 0.949212388883599\n",
      "Odziv nad testing podacima je: 0.9350668638017938\n",
      "F1 vrednost nad testing podacima je: 0.9420865302106993\n"
     ]
    },
    {
     "data": {
      "image/png": "[encoded data removed]",
      "text/plain": [
       "<Figure size 432x288 with 1 Axes>"
      ]
     },
     "metadata": {
      "needs_background": "light"
     },
     "output_type": "display_data"
    }
   ],
   "source": [
    "izvestaj(rand_search,X_scaled,X_valid_scaled,y,y_valid,klase = klase)"
   ]
  },
  {
   "cell_type": "code",
   "execution_count": 53,
   "metadata": {},
   "outputs": [],
   "source": [
    "vizualizacija(X_test,rand_search.predict(X_test_scaled),data_test)"
   ]
  },
  {
   "cell_type": "code",
   "execution_count": 55,
   "metadata": {},
   "outputs": [],
   "source": [
    "y_score =rand_search.decision_function(X_test)"
   ]
  },
  {
   "cell_type": "code",
   "execution_count": 59,
   "metadata": {},
   "outputs": [
    {
     "data": {
      "image/png": "[encoded data removed]",
      "text/plain": [
       "<Figure size 432x288 with 1 Axes>"
      ]
     },
     "metadata": {
      "needs_background": "light"
     },
     "output_type": "display_data"
    }
   ],
   "source": [
    "from sklearn.metrics import auc,roc_curve\n",
    "fpr,tpr,threshold= roc_curve(y_test,y_score)\n",
    "roc_auc = auc(fpr, tpr)\n",
    "\n",
    "\n",
    "\n",
    "plt.figure()\n",
    "lw = 2\n",
    "plt.plot(fpr, tpr, color='darkorange',\n",
    "         lw=lw, label='ROC curve (area = %0.2f)' % roc_auc)\n",
    "plt.plot([0, 1], [0, 1], color='navy', lw=lw, linestyle='--')\n",
    "plt.xlim([0.0, 1.0])\n",
    "plt.ylim([0.0, 1.05])\n",
    "plt.xlabel('False Positive Rate')\n",
    "plt.ylabel('True Positive Rate')\n",
    "plt.title('Receiver operating characteristic example')\n",
    "plt.legend(loc=\"lower right\")\n",
    "plt.show()"
   ]
  },
  {
   "cell_type": "code",
   "execution_count": 71,
   "metadata": {},
   "outputs": [],
   "source": [
    "thr = threshold[(fpr> 0.55).argmax()]"
   ]
  },
  {
   "cell_type": "code",
   "execution_count": 72,
   "metadata": {},
   "outputs": [],
   "source": [
    "decision = rand_search.decision_function(X_test) "
   ]
  },
  {
   "cell_type": "code",
   "execution_count": 73,
   "metadata": {},
   "outputs": [],
   "source": [
    "y_ppred = decision >thr"
   ]
  },
  {
   "cell_type": "code",
   "execution_count": 74,
   "metadata": {},
   "outputs": [
    {
     "name": "stdout",
     "output_type": "stream",
     "text": [
      "Tacnost na trening podacima je:\n",
      " 0.7825475895191406 \n",
      "\n",
      "Matrica konfuzije za trening podatke:\n",
      "\n"
     ]
    },
    {
     "data": {
      "text/html": [
       "<div>\n",
       "<style scoped>\n",
       "    .dataframe tbody tr th:only-of-type {\n",
       "        vertical-align: middle;\n",
       "    }\n",
       "\n",
       "    .dataframe tbody tr th {\n",
       "        vertical-align: top;\n",
       "    }\n",
       "\n",
       "    .dataframe thead th {\n",
       "        text-align: right;\n",
       "    }\n",
       "</style>\n",
       "<table border=\"1\" class=\"dataframe\">\n",
       "  <thead>\n",
       "    <tr style=\"text-align: right;\">\n",
       "      <th></th>\n",
       "      <th>Zgrade</th>\n",
       "      <th>Nezgrade</th>\n",
       "    </tr>\n",
       "  </thead>\n",
       "  <tbody>\n",
       "    <tr>\n",
       "      <th>Zgrade</th>\n",
       "      <td>977374</td>\n",
       "      <td>1194567</td>\n",
       "    </tr>\n",
       "    <tr>\n",
       "      <th>Nezgrade</th>\n",
       "      <td>1337301</td>\n",
       "      <td>8134078</td>\n",
       "    </tr>\n",
       "  </tbody>\n",
       "</table>\n",
       "</div>"
      ],
      "text/plain": [
       "           Zgrade  Nezgrade\n",
       "Zgrade     977374   1194567\n",
       "Nezgrade  1337301   8134078"
      ]
     },
     "metadata": {},
     "output_type": "display_data"
    },
    {
     "name": "stdout",
     "output_type": "stream",
     "text": [
      "Preciznost nad trening podacima: 0.8719463544812778\n",
      "Odziv nad trening podacima je: 0.8588060936005201\n",
      "F1 vrednost nad trening podacima je: 0.8653263421365845\n"
     ]
    },
    {
     "data": {
      "image/png": "[encoded data removed]",
      "text/plain": [
       "<Figure size 432x288 with 1 Axes>"
      ]
     },
     "metadata": {
      "needs_background": "light"
     },
     "output_type": "display_data"
    }
   ],
   "source": [
    "izvestaj_statistike(y_test,y_ppred)"
   ]
  },
  {
   "cell_type": "markdown",
   "metadata": {},
   "source": [
    "## Mutliklasna klasifikacija primenom algoritma neuronske mreze"
   ]
  },
  {
   "cell_type": "code",
   "execution_count": 62,
   "metadata": {},
   "outputs": [
    {
     "name": "stdout",
     "output_type": "stream",
     "text": [
      "Epoch 1/100\n",
      "204197/204197 [==============================] - 948s 5ms/step - loss: 0.1012 - binary_accuracy: 0.9682 - val_loss: 0.1741 - val_binary_accuracy: 0.9474\n",
      "Epoch 2/100\n",
      "204197/204197 [==============================] - 994s 5ms/step - loss: 0.0812 - binary_accuracy: 0.9734 - val_loss: 0.1664 - val_binary_accuracy: 0.9501\n",
      "Epoch 3/100\n",
      "204197/204197 [==============================] - 634s 3ms/step - loss: 0.0799 - binary_accuracy: 0.9737 - val_loss: 0.1696 - val_binary_accuracy: 0.9450\n",
      "Epoch 4/100\n",
      "204197/204197 [==============================] - 630s 3ms/step - loss: 0.0794 - binary_accuracy: 0.9738 - val_loss: 0.1790 - val_binary_accuracy: 0.9455\n"
     ]
    },
    {
     "data": {
      "text/plain": [
       "<tensorflow.python.keras.callbacks.History at 0x1bbaae19bb0>"
      ]
     },
     "execution_count": 62,
     "metadata": {},
     "output_type": "execute_result"
    }
   ],
   "source": [
    "model = Sequential([\n",
    "    Dense(15,activation='relu',input_shape = [9],kernel_regularizer = l2(0.001)),\n",
    "    Dense(1,activation = 'sigmoid')\n",
    "])\n",
    "\n",
    "model.compile(loss='binary_crossentropy',optimizer = 'adam',metrics = ['binary_accuracy'])\n",
    "model.fit(X_scaled,y,validation_data = (X_valid_scaled,y_valid), epochs = 100, callbacks = EarlyStopping(patience= 2))"
   ]
  },
  {
   "cell_type": "code",
   "execution_count": 96,
   "metadata": {},
   "outputs": [
    {
     "name": "stdout",
     "output_type": "stream",
     "text": [
      "Tacnost na trening podacima je:\n",
      " 0.9740401947019831 \n",
      "\n",
      "Matrica konfuzije za trening podatke:\n",
      "\n"
     ]
    },
    {
     "data": {
      "text/html": [
       "<div>\n",
       "<style scoped>\n",
       "    .dataframe tbody tr th:only-of-type {\n",
       "        vertical-align: middle;\n",
       "    }\n",
       "\n",
       "    .dataframe tbody tr th {\n",
       "        vertical-align: top;\n",
       "    }\n",
       "\n",
       "    .dataframe thead th {\n",
       "        text-align: right;\n",
       "    }\n",
       "</style>\n",
       "<table border=\"1\" class=\"dataframe\">\n",
       "  <thead>\n",
       "    <tr style=\"text-align: right;\">\n",
       "      <th></th>\n",
       "      <th>Zgrade</th>\n",
       "      <th>Nezgrade</th>\n",
       "    </tr>\n",
       "  </thead>\n",
       "  <tbody>\n",
       "    <tr>\n",
       "      <th>Zgrade</th>\n",
       "      <td>1177298</td>\n",
       "      <td>91306</td>\n",
       "    </tr>\n",
       "    <tr>\n",
       "      <th>Nezgrade</th>\n",
       "      <td>78323</td>\n",
       "      <td>5187367</td>\n",
       "    </tr>\n",
       "  </tbody>\n",
       "</table>\n",
       "</div>"
      ],
      "text/plain": [
       "           Zgrade  Nezgrade\n",
       "Zgrade    1177298     91306\n",
       "Nezgrade    78323   5187367"
      ]
     },
     "metadata": {},
     "output_type": "display_data"
    },
    {
     "name": "stdout",
     "output_type": "stream",
     "text": [
      "Preciznost nad trening podacima: 0.9827028497503065\n",
      "Odziv nad trening podacima je: 0.985125785984363\n",
      "F1 vrednost nad trening podacima je: 0.9839128262181414\n"
     ]
    },
    {
     "data": {
      "image/png": "[encoded data removed]",
      "text/plain": [
       "<Figure size 432x288 with 1 Axes>"
      ]
     },
     "metadata": {
      "needs_background": "light"
     },
     "output_type": "display_data"
    },
    {
     "name": "stdout",
     "output_type": "stream",
     "text": [
      "Tacnost na test podacima je:\n",
      " 0.9711100442141932 \n",
      "\n",
      "Matrica konfuzije za test podatke:\n",
      "\n"
     ]
    },
    {
     "data": {
      "text/html": [
       "<div>\n",
       "<style scoped>\n",
       "    .dataframe tbody tr th:only-of-type {\n",
       "        vertical-align: middle;\n",
       "    }\n",
       "\n",
       "    .dataframe tbody tr th {\n",
       "        vertical-align: top;\n",
       "    }\n",
       "\n",
       "    .dataframe thead th {\n",
       "        text-align: right;\n",
       "    }\n",
       "</style>\n",
       "<table border=\"1\" class=\"dataframe\">\n",
       "  <thead>\n",
       "    <tr style=\"text-align: right;\">\n",
       "      <th></th>\n",
       "      <th>Zgrade</th>\n",
       "      <th>Nezgrade</th>\n",
       "    </tr>\n",
       "  </thead>\n",
       "  <tbody>\n",
       "    <tr>\n",
       "      <th>Zgrade</th>\n",
       "      <td>1928222</td>\n",
       "      <td>243719</td>\n",
       "    </tr>\n",
       "    <tr>\n",
       "      <th>Nezgrade</th>\n",
       "      <td>92656</td>\n",
       "      <td>9378723</td>\n",
       "    </tr>\n",
       "  </tbody>\n",
       "</table>\n",
       "</div>"
      ],
      "text/plain": [
       "           Zgrade  Nezgrade\n",
       "Zgrade    1928222    243719\n",
       "Nezgrade    92656   9378723"
      ]
     },
     "metadata": {},
     "output_type": "display_data"
    },
    {
     "name": "stdout",
     "output_type": "stream",
     "text": [
      "Preciznost nad testing podacima: 0.9746718140779648\n",
      "Odziv nad testing podacima je: 0.990217264033041\n",
      "F1 vrednost nad testing podacima je: 0.9823830442319533\n"
     ]
    },
    {
     "data": {
      "image/png": "[encoded data removed]",
      "text/plain": [
       "<Figure size 432x288 with 1 Axes>"
      ]
     },
     "metadata": {
      "needs_background": "light"
     },
     "output_type": "display_data"
    },
    {
     "name": "stdout",
     "output_type": "stream",
     "text": [
      "\n"
     ]
    }
   ],
   "source": [
    "izvestaj(model,X_scaled,X_test_scaled,y,y_test,klase = klase)"
   ]
  },
  {
   "cell_type": "code",
   "execution_count": 71,
   "metadata": {},
   "outputs": [],
   "source": [
    "model.save('klasifikacija_zgrade_NN.h5')"
   ]
  },
  {
   "cell_type": "code",
   "execution_count": 79,
   "metadata": {},
   "outputs": [],
   "source": [
    "import tensorflow\n",
    "model = tensorflow.keras.models.load_model('klasifikacija_zgrade_NN.h5')"
   ]
  },
  {
   "cell_type": "code",
   "execution_count": 82,
   "metadata": {},
   "outputs": [
    {
     "name": "stdout",
     "output_type": "stream",
     "text": [
      "Model: \"sequential\"\n",
      "_________________________________________________________________\n",
      "Layer (type)                 Output Shape              Param #   \n",
      "=================================================================\n",
      "dense (Dense)                (None, 15)                150       \n",
      "_________________________________________________________________\n",
      "dense_1 (Dense)              (None, 1)                 16        \n",
      "=================================================================\n",
      "Total params: 166\n",
      "Trainable params: 166\n",
      "Non-trainable params: 0\n",
      "_________________________________________________________________\n"
     ]
    }
   ],
   "source": [
    "model.summary()"
   ]
  },
  {
   "cell_type": "code",
   "execution_count": 123,
   "metadata": {},
   "outputs": [],
   "source": [
    "y_model_ppred =model.predict(X_scaled)"
   ]
  },
  {
   "cell_type": "code",
   "execution_count": 124,
   "metadata": {},
   "outputs": [
    {
     "data": {
      "text/plain": [
       "array([[0.99856377],\n",
       "       [0.96438676],\n",
       "       [0.9998867 ],\n",
       "       ...,\n",
       "       [0.87852615],\n",
       "       [0.99829704],\n",
       "       [0.99906915]], dtype=float32)"
      ]
     },
     "execution_count": 124,
     "metadata": {},
     "output_type": "execute_result"
    }
   ],
   "source": [
    "y_model_ppred"
   ]
  },
  {
   "cell_type": "code",
   "execution_count": 125,
   "metadata": {},
   "outputs": [],
   "source": [
    "fpr,tpr,threshold = roc_curve(y,y_model_ppred)\n",
    "roc_auc = auc(fpr,tpr)"
   ]
  },
  {
   "cell_type": "code",
   "execution_count": 126,
   "metadata": {},
   "outputs": [
    {
     "data": {
      "image/png": "[encoded data removed]",
      "text/plain": [
       "<Figure size 432x288 with 1 Axes>"
      ]
     },
     "metadata": {
      "needs_background": "light"
     },
     "output_type": "display_data"
    }
   ],
   "source": [
    "lw = 2\n",
    "plt.plot(fpr,np.array([tpr,threshold]).T, color='darkorange',\n",
    "         lw=lw, label='ROC curve (area = %0.2f)' % roc_auc)\n",
    "plt.plot([0, 1], [0, 1], color='navy', lw=lw, linestyle='--')\n",
    "plt.xlim([0.0, 1.0])\n",
    "plt.ylim([0.0, 1.05])\n",
    "plt.xlabel('False Positive Rate')\n",
    "plt.ylabel('True Positive Rate')\n",
    "plt.title('Receiver operating characteristic example')\n",
    "plt.legend(loc=\"lower right\")\n",
    "plt.show()"
   ]
  },
  {
   "cell_type": "code",
   "execution_count": 121,
   "metadata": {},
   "outputs": [
    {
     "data": {
      "text/plain": [
       "0.9413507"
      ]
     },
     "execution_count": 121,
     "metadata": {},
     "output_type": "execute_result"
    }
   ],
   "source": [
    "threshold[np.argmin(np.abs(threshold-tpr))]"
   ]
  },
  {
   "cell_type": "code",
   "execution_count": 112,
   "metadata": {},
   "outputs": [
    {
     "data": {
      "text/plain": [
       "array([2.0000000e+00, 1.0000000e+00, 9.9999988e-01, ..., 2.6780164e-16,\n",
       "       2.6755452e-16, 4.1229954e-23], dtype=float32)"
      ]
     },
     "execution_count": 112,
     "metadata": {},
     "output_type": "execute_result"
    }
   ],
   "source": [
    "threshold[()]"
   ]
  },
  {
   "cell_type": "code",
   "execution_count": 117,
   "metadata": {},
   "outputs": [
    {
     "data": {
      "text/plain": [
       "array([[0.00000000e+00, 2.00000000e+00],\n",
       "       [6.68540452e-04, 1.00000000e+00],\n",
       "       [7.95871435e-04, 9.99999881e-01],\n",
       "       ...,\n",
       "       [1.00000000e+00, 2.67801642e-16],\n",
       "       [1.00000000e+00, 2.67554521e-16],\n",
       "       [1.00000000e+00, 4.12299541e-23]])"
      ]
     },
     "execution_count": 117,
     "metadata": {},
     "output_type": "execute_result"
    }
   ],
   "source": [
    "np.array([tpr,threshold]).T"
   ]
  },
  {
   "cell_type": "code",
   "execution_count": 122,
   "metadata": {},
   "outputs": [
    {
     "name": "stdout",
     "output_type": "stream",
     "text": [
      "Tacnost na trening podacima je:\n",
      " 0.9532897833264052 \n",
      "\n",
      "Matrica konfuzije za trening podatke:\n",
      "\n"
     ]
    },
    {
     "data": {
      "text/html": [
       "<div>\n",
       "<style scoped>\n",
       "    .dataframe tbody tr th:only-of-type {\n",
       "        vertical-align: middle;\n",
       "    }\n",
       "\n",
       "    .dataframe tbody tr th {\n",
       "        vertical-align: top;\n",
       "    }\n",
       "\n",
       "    .dataframe thead th {\n",
       "        text-align: right;\n",
       "    }\n",
       "</style>\n",
       "<table border=\"1\" class=\"dataframe\">\n",
       "  <thead>\n",
       "    <tr style=\"text-align: right;\">\n",
       "      <th></th>\n",
       "      <th>Zgrade</th>\n",
       "      <th>Nezgrade</th>\n",
       "    </tr>\n",
       "  </thead>\n",
       "  <tbody>\n",
       "    <tr>\n",
       "      <th>Zgrade</th>\n",
       "      <td>2032839</td>\n",
       "      <td>139102</td>\n",
       "    </tr>\n",
       "    <tr>\n",
       "      <th>Nezgrade</th>\n",
       "      <td>404760</td>\n",
       "      <td>9066619</td>\n",
       "    </tr>\n",
       "  </tbody>\n",
       "</table>\n",
       "</div>"
      ],
      "text/plain": [
       "           Zgrade  Nezgrade\n",
       "Zgrade    2032839    139102\n",
       "Nezgrade   404760   9066619"
      ]
     },
     "metadata": {},
     "output_type": "display_data"
    },
    {
     "name": "stdout",
     "output_type": "stream",
     "text": [
      "Preciznost nad trening podacima: 0.9848896137521439\n",
      "Odziv nad trening podacima je: 0.9572649347048618\n",
      "F1 vrednost nad trening podacima je: 0.9708808112608488\n"
     ]
    },
    {
     "data": {
      "image/png": "[encoded data removed]",
      "text/plain": [
       "<Figure size 432x288 with 1 Axes>"
      ]
     },
     "metadata": {
      "needs_background": "light"
     },
     "output_type": "display_data"
    }
   ],
   "source": [
    "izvestaj_statistike(y_test,y_model_ppred>0.9)"
   ]
  },
  {
   "cell_type": "code",
   "execution_count": null,
   "metadata": {},
   "outputs": [],
   "source": []
  }
 ],
 "metadata": {
  "kernelspec": {
   "display_name": "Python 3",
   "language": "python",
   "name": "python3"
  },
  "language_info": {
   "codemirror_mode": {
    "name": "ipython",
    "version": 3
   },
   "file_extension": ".py",
   "mimetype": "text/x-python",
   "name": "python",
   "nbconvert_exporter": "python",
   "pygments_lexer": "ipython3",
   "version": "3.8.5"
  }
 },
 "nbformat": 4,
 "nbformat_minor": 4
}
