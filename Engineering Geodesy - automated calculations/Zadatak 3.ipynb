{
 "cells": [
  {
   "cell_type": "code",
   "execution_count": 1,
   "metadata": {},
   "outputs": [],
   "source": [
    "import numpy as np \n",
    "import pandas as pd \n",
    "import math as m\n",
    "np.set_printoptions(suppress=True)"
   ]
  },
  {
   "cell_type": "code",
   "execution_count": 2,
   "metadata": {},
   "outputs": [],
   "source": [
    "visine = pd.read_csv('Visine.csv')\n",
    "visine = np.asarray(visine)"
   ]
  },
  {
   "cell_type": "code",
   "execution_count": 3,
   "metadata": {},
   "outputs": [
    {
     "data": {
      "text/plain": [
       "array([[  0.    ,   0.    ,  20.    ,  40.    ],\n",
       "       [  0.    ,   6.554 ,   7.071 ,   6.626 ],\n",
       "       [ 20.    ,   6.323 ,   6.681 ,   6.593 ],\n",
       "       [ 40.    ,   6.214 ,   6.368 ,   6.444 ],\n",
       "       [ 60.    ,   6.74  ,   6.759 ,   6.114 ],\n",
       "       [ 80.    ,   6.0675,   6.29  ,   6.539 ],\n",
       "       [100.    ,   6.525 ,   6.86  ,   6.998 ],\n",
       "       [120.    ,   6.012 ,   6.657 ,   7.121 ],\n",
       "       [140.    ,   6.812 ,   7.19  ,   7.437 ]])"
      ]
     },
     "execution_count": 3,
     "metadata": {},
     "output_type": "execute_result"
    }
   ],
   "source": [
    "k=visine\n",
    "k\n"
   ]
  },
  {
   "cell_type": "code",
   "execution_count": 4,
   "metadata": {},
   "outputs": [],
   "source": [
    "def matricaA(visine):\n",
    "    A = np.zeros(((visine.shape[0]-1)*(visine.shape[1]-1),3))\n",
    "    A[:,0]=1\n",
    "    A[:,1]=np.repeat(-visine[0,1:],visine.shape[0]-1)\n",
    "    A[:,2]=np.tile(-visine[1:,0],visine.shape[1]-1)\n",
    "    \n",
    "    return A"
   ]
  },
  {
   "cell_type": "code",
   "execution_count": 5,
   "metadata": {},
   "outputs": [
    {
     "data": {
      "text/plain": [
       "array([[-6.554 ],\n",
       "       [-6.323 ],\n",
       "       [-6.214 ],\n",
       "       [-6.74  ],\n",
       "       [-6.0675],\n",
       "       [-6.525 ],\n",
       "       [-6.012 ],\n",
       "       [-6.812 ],\n",
       "       [-7.071 ],\n",
       "       [-6.681 ],\n",
       "       [-6.368 ],\n",
       "       [-6.759 ],\n",
       "       [-6.29  ],\n",
       "       [-6.86  ],\n",
       "       [-6.657 ],\n",
       "       [-7.19  ],\n",
       "       [-6.626 ],\n",
       "       [-6.593 ],\n",
       "       [-6.444 ],\n",
       "       [-6.114 ],\n",
       "       [-6.539 ],\n",
       "       [-6.998 ],\n",
       "       [-7.121 ],\n",
       "       [-7.437 ]])"
      ]
     },
     "execution_count": 5,
     "metadata": {},
     "output_type": "execute_result"
    }
   ],
   "source": [
    "def matricaF(visine):\n",
    "    F = -visine[1:,1:].flatten('F')\n",
    "    F = F.reshape(-1,1)\n",
    "    return F\n",
    "F = matricaF(k)\n",
    "F"
   ]
  },
  {
   "cell_type": "code",
   "execution_count": 6,
   "metadata": {},
   "outputs": [],
   "source": [
    "A = matricaA(k)"
   ]
  },
  {
   "cell_type": "code",
   "execution_count": 27,
   "metadata": {},
   "outputs": [],
   "source": [
    "def neuslovljena(visine,A,F):\n",
    "    nn,u = A.shape\n",
    "    N = np.matmul(A.transpose(),A)\n",
    "    Qx = np.linalg.inv(N)\n",
    "    n = np.matmul(A.transpose(),F)\n",
    "    x = np.matmul(-Qx,n)\n",
    "    x = x.reshape(-1,1)\n",
    "    v = np.matmul(A,x) + F\n",
    "    sigma_o = m.sqrt(np.matmul(v.transpose(),v)/(nn-u))\n",
    "    sigma_lm = sigma_o*np.sqrt(np.diag(Qx))\n",
    "\n",
    "    \n",
    "    return N,Qx,n,x,v,sigma_o,sigma_lm "
   ]
  },
  {
   "cell_type": "code",
   "execution_count": 28,
   "metadata": {},
   "outputs": [],
   "source": [
    "N,Qx,n,x,v,sigma_o,sigma_lm = neuslovljena(k,A,F)"
   ]
  },
  {
   "cell_type": "code",
   "execution_count": 38,
   "metadata": {},
   "outputs": [
    {
     "data": {
      "text/plain": [
       "array([[-0.26871181],\n",
       "       [ 0.01242907],\n",
       "       [ 0.17156994],\n",
       "       [-0.30428919],\n",
       "       [ 0.41835169],\n",
       "       [ 0.01099256],\n",
       "       [ 0.57413343],\n",
       "       [-0.17572569],\n",
       "       [-0.62168056],\n",
       "       [-0.18153968],\n",
       "       [ 0.18160119],\n",
       "       [-0.15925794],\n",
       "       [ 0.35988294],\n",
       "       [-0.15997619],\n",
       "       [ 0.09316468],\n",
       "       [-0.38969444],\n",
       "       [-0.01264931],\n",
       "       [ 0.07049157],\n",
       "       [ 0.26963244],\n",
       "       [ 0.64977331],\n",
       "       [ 0.27491419],\n",
       "       [-0.13394494],\n",
       "       [-0.20680407],\n",
       "       [-0.47266319]])"
      ]
     },
     "execution_count": 38,
     "metadata": {},
     "output_type": "execute_result"
    }
   ],
   "source": [
    "v"
   ]
  },
  {
   "cell_type": "code",
   "execution_count": 29,
   "metadata": {},
   "outputs": [],
   "source": [
    "def uslovljena(visine,A,F,tacke):\n",
    "    nn,u = A.shape\n",
    "    N = np.matmul(A.transpose(),A)\n",
    "    if len(tacke)==2:\n",
    "        B = np.array([1,-tacke[0],-tacke[1]]).reshape(1,-1)\n",
    "        yidx = np.where(k[0,:]==tacke[0])\n",
    "        xidx = np.where(k[:,0]==tacke[1])\n",
    "        kx =-k[xidx[0][0],yidx[0][0]]\n",
    "    elif len(tacke)==4:\n",
    "        B = np.array([[1,-tacke[0],-tacke[1]],[1,-tacke[2],-tacke[3]]])\n",
    "        y1idx = np.where(k[0,:]==tacke[0])\n",
    "        x1idx = np.where(k[:,0]==tacke[1])\n",
    "        y2idx = np.where(k[0,:]==tacke[2])\n",
    "        x2idx = np.where(k[:,0]==tacke[3])\n",
    "        k1=-k[x1idx[0][0],y1idx[0][0]]\n",
    "        k2 =-k[x2idx[0][0],y2idx[0][0]]\n",
    "        kx = np.vstack((k1,k2))\n",
    "\n",
    "    N = np.hstack((np.vstack((N,B)),np.vstack((B.transpose(),np.zeros((B.shape[0],B.shape[0]))))))\n",
    "    Qx = np.linalg.inv(N)\n",
    "    n = np.matmul(A.transpose(),F)\n",
    "    n = np.vstack((n,kx))\n",
    "    x = np.matmul(-Qx,n)\n",
    "    x1 = x[:-kx.size]\n",
    "    x1 = x1.reshape(-1,1)\n",
    "    v = np.matmul(A,x1) + F\n",
    "    sigma_o = m.sqrt(np.matmul(v.transpose(),v)/(nn-u))\n",
    "    sigma_lm = sigma_o*np.sqrt(np.diag(Qx[:-kx.size,:-kx.size]))\n",
    "\n",
    "    return N,Qx,n,x,v,sigma_o,sigma_lm ,B"
   ]
  },
  {
   "cell_type": "code",
   "execution_count": 7,
   "metadata": {},
   "outputs": [],
   "source": [
    "def odstampajResenja(A,F,N,Qx,n,x,v,sigma_o,sigma_lm ,B):\n",
    "    print('Matrica A')\n",
    "    print(A)\n",
    "    print('Matrica F  ')\n",
    "    print(F)\n",
    "    print(' Matrica N')\n",
    "    print(N1)\n",
    "    print(' Matrica Qx ')\n",
    "    print(Qx1)\n",
    "    print(' Matrica n')\n",
    "    print(n1)\n",
    "    print(' Vektor x ')\n",
    "    print(x1)\n",
    "    print('Popravke v ')\n",
    "    print(v1)\n",
    "    print(' A posteriori standardna devijacija ')\n",
    "    print(sigma_o1)\n",
    "    print('Standardne devijacije nepoznatih parametara ')\n",
    "    print(sigma_lm1)\n",
    "    print(' Matrica B1 ')\n",
    "    print(B1)\n",
    "    print(' ')"
   ]
  },
  {
   "cell_type": "code",
   "execution_count": 11,
   "metadata": {},
   "outputs": [],
   "source": [
    "tacke1 = [60,120]\n"
   ]
  },
  {
   "cell_type": "markdown",
   "metadata": {},
   "source": [
    "N1,Qx1,n1,x1,v1,sigma_o1,sigma_lm1 ,B1 = uslovljena(k,A,F,tacke1)"
   ]
  },
  {
   "cell_type": "markdown",
   "metadata": {},
   "source": [
    "odstampajResenja(A,F,N1,Qx1,n1,x1,v1,sigma_o1,sigma_lm1 ,B1)"
   ]
  },
  {
   "cell_type": "code",
   "execution_count": 13,
   "metadata": {},
   "outputs": [],
   "source": [
    "tacke2 = [0,120,40,0]"
   ]
  },
  {
   "cell_type": "code",
   "execution_count": null,
   "metadata": {},
   "outputs": [],
   "source": [
    "\n",
    "N2,Qx2,n2,x2,v2,sigma_o2,sigma_lm2 ,B2 = uslovljena(k,A,F,tacke2)\n",
    "\n",
    "odstampajResenja(A,F,N2,Qx2,n2,x2,v2,sigma_o2,sigma_lm2 ,B2)"
   ]
  },
  {
   "cell_type": "code",
   "execution_count": null,
   "metadata": {},
   "outputs": [],
   "source": [
    "len(tacke2)"
   ]
  },
  {
   "cell_type": "code",
   "execution_count": 15,
   "metadata": {},
   "outputs": [],
   "source": [
    "tacke = [0,120,40,0]\n",
    "\n",
    "nn,u = A.shape\n",
    "N = np.matmul(A.transpose(),A)\n",
    "if len(tacke)==2:\n",
    "    B = np.array([1,-tacke[0],-tacke[1]]).reshape(1,-1)\n",
    "    yidx = np.where(k[0,:]==tacke[0])\n",
    "    xidx = np.where(k[:,0]==tacke[1])\n",
    "    kx =-k[xidx[0][0],yidx[0][0]]\n",
    "elif len(tacke)==4:\n",
    "    B = np.array([[1,-tacke[0],-tacke[1]],[1,-tacke[2],-tacke[3]]])\n",
    "    y1idx = np.where(k[0,:]==tacke[0])\n",
    "    x1idx = np.where(k[:,0]==tacke[1])\n",
    "    y2idx = np.where(k[0,:]==tacke[2])\n",
    "    x2idx = np.where(k[:,0]==tacke[3])\n",
    "    k1=-k[x1idx[0][0],y1idx[0][0]]\n",
    "    k2 =-k[x2idx[0][0],y2idx[0][0]]\n",
    "    kx = np.vstack((k1,k2))\n",
    "\n",
    "kx[0][0] = -6.012\n",
    "kx[1][0] = -6.626\n",
    "N = np.hstack((np.vstack((N,B)),np.vstack((B.transpose(),np.zeros((B.shape[0],B.shape[0]))))))\n",
    "Qx = np.linalg.inv(N)\n",
    "n = np.matmul(A.transpose(),F)\n",
    "n = np.vstack((n,kx))\n",
    "x = np.matmul(-Qx,n)\n",
    "x1 = x[:-kx.size]\n",
    "x1 = x1.reshape(-1,1)\n",
    "v = np.matmul(A,x1) + F\n",
    "sigma_o = m.sqrt(np.matmul(v.transpose(),v)/(nn-u))\n",
    "sigma_lm = sigma_o*np.sqrt(np.diag(Qx[:-kx.size,:-kx.size]))"
   ]
  }
 ],
 "metadata": {
  "kernelspec": {
   "display_name": "Python 3",
   "language": "python",
   "name": "python3"
  },
  "language_info": {
   "codemirror_mode": {
    "name": "ipython",
    "version": 3
   },
   "file_extension": ".py",
   "mimetype": "text/x-python",
   "name": "python",
   "nbconvert_exporter": "python",
   "pygments_lexer": "ipython3",
   "version": "3.8.5"
  }
 },
 "nbformat": 4,
 "nbformat_minor": 2
}
